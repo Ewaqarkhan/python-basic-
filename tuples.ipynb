{
 "cells": [
  {
   "cell_type": "code",
   "execution_count": 1,
   "id": "267269e7-1130-4dde-a9ff-2f5817888ecd",
   "metadata": {},
   "outputs": [],
   "source": [
    "tuples=(\"waqar\",\"khan\",\"address\")"
   ]
  },
  {
   "cell_type": "code",
   "execution_count": 2,
   "id": "5bf98df3-aa7d-496a-a498-94971a1c732e",
   "metadata": {},
   "outputs": [
    {
     "data": {
      "text/plain": [
       "('waqar', 'khan', 'address')"
      ]
     },
     "execution_count": 2,
     "metadata": {},
     "output_type": "execute_result"
    }
   ],
   "source": [
    "tuples"
   ]
  },
  {
   "cell_type": "code",
   "execution_count": 3,
   "id": "ca9292ce-8fd4-4fa5-91d9-f4b42435a56a",
   "metadata": {},
   "outputs": [
    {
     "data": {
      "text/plain": [
       "tuple"
      ]
     },
     "execution_count": 3,
     "metadata": {},
     "output_type": "execute_result"
    }
   ],
   "source": [
    "type(tuples)"
   ]
  },
  {
   "cell_type": "code",
   "execution_count": 4,
   "id": "cd2f27da-cd55-479d-98d0-e52a3b43e400",
   "metadata": {},
   "outputs": [
    {
     "data": {
      "text/plain": [
       "'khan'"
      ]
     },
     "execution_count": 4,
     "metadata": {},
     "output_type": "execute_result"
    }
   ],
   "source": [
    "tuples[1]"
   ]
  },
  {
   "cell_type": "code",
   "execution_count": 8,
   "id": "1b662a64-3411-4649-9361-7d2e5126ecae",
   "metadata": {},
   "outputs": [
    {
     "data": {
      "text/plain": [
       "('waqar', 'khan', 'address')"
      ]
     },
     "execution_count": 8,
     "metadata": {},
     "output_type": "execute_result"
    }
   ],
   "source": [
    "tuples[0:3]"
   ]
  },
  {
   "cell_type": "code",
   "execution_count": 9,
   "id": "a9b426ae-a431-4655-8072-9c9a1dbcf4c6",
   "metadata": {},
   "outputs": [
    {
     "data": {
      "text/plain": [
       "('waqar', 'address')"
      ]
     },
     "execution_count": 9,
     "metadata": {},
     "output_type": "execute_result"
    }
   ],
   "source": [
    "tuples[0:3:2]"
   ]
  },
  {
   "cell_type": "code",
   "execution_count": 10,
   "id": "4a4f7034-7e7a-4812-860c-5815f042680d",
   "metadata": {},
   "outputs": [
    {
     "data": {
      "text/plain": [
       "'address'"
      ]
     },
     "execution_count": 10,
     "metadata": {},
     "output_type": "execute_result"
    }
   ],
   "source": [
    "tuples[-1]"
   ]
  },
  {
   "cell_type": "code",
   "execution_count": 13,
   "id": "d9d11a30-51bb-41f2-b3f0-72c9127abfc0",
   "metadata": {},
   "outputs": [
    {
     "data": {
      "text/plain": [
       "('waqar', 'khan', 'address')"
      ]
     },
     "execution_count": 13,
     "metadata": {},
     "output_type": "execute_result"
    }
   ],
   "source": [
    "tuples[:]"
   ]
  },
  {
   "cell_type": "code",
   "execution_count": 17,
   "id": "65910b4b-2878-40a9-8898-6c15eb5ddadb",
   "metadata": {},
   "outputs": [
    {
     "data": {
      "text/plain": [
       "'address'"
      ]
     },
     "execution_count": 17,
     "metadata": {},
     "output_type": "execute_result"
    }
   ],
   "source": [
    "tuples[-1]"
   ]
  },
  {
   "cell_type": "code",
   "execution_count": 22,
   "id": "28b34ee4-6a88-4c2c-a2af-66180802da21",
   "metadata": {},
   "outputs": [
    {
     "data": {
      "text/plain": [
       "1"
      ]
     },
     "execution_count": 22,
     "metadata": {},
     "output_type": "execute_result"
    }
   ],
   "source": [
    "tuples.count(\"waqar\")"
   ]
  },
  {
   "cell_type": "code",
   "execution_count": null,
   "id": "30f796e8-d059-4ef6-b3cb-f60292db9df3",
   "metadata": {},
   "outputs": [],
   "source": []
  },
  {
   "cell_type": "code",
   "execution_count": null,
   "id": "8f6516a4-9c88-4998-ab5c-3c4623b16c10",
   "metadata": {},
   "outputs": [],
   "source": []
  }
 ],
 "metadata": {
  "kernelspec": {
   "display_name": "Python 3",
   "language": "python",
   "name": "python3"
  },
  "language_info": {
   "codemirror_mode": {
    "name": "ipython",
    "version": 3
   },
   "file_extension": ".py",
   "mimetype": "text/x-python",
   "name": "python",
   "nbconvert_exporter": "python",
   "pygments_lexer": "ipython3",
   "version": "3.8.8"
  }
 },
 "nbformat": 4,
 "nbformat_minor": 5
}
