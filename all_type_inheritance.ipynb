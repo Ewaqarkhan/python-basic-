{
 "cells": [
  {
   "cell_type": "code",
   "execution_count": 1,
   "id": "3f7a7080",
   "metadata": {},
   "outputs": [],
   "source": [
    "class Vehicles:\n",
    "  def __init__(self,model,number,color):\n",
    "        self.name=name\n",
    "        self.number=number\n",
    "        self.color=color\n",
    "  def  print_Details(self):\n",
    "        print(\"The model of the vehicles\",self.name)\n",
    "        print(\"The number of the vehicles\",self.number)\n",
    "        print(\"The color of the vehicles\",self.color)"
   ]
  },
  {
   "cell_type": "code",
   "execution_count": 14,
   "id": "c048e13c",
   "metadata": {},
   "outputs": [],
   "source": [
    "\"\"\"single Inheritance\"\"\"\n",
    "class Buses(Vehicles):\n",
    "  def __init__(self,wheelchair_space,waiting_timing,\n",
    "               cost_travel,safety_of_buses,journey_time,number_seats):\n",
    "    Vehicles.__init__(self,model,number,color)\n",
    "    self.wheelchair_space=wheelchair\n",
    "    self.waiting_timing=waiting_timing\n",
    "    self.cost_travel=cost_travel\n",
    "    self.safety_of_buses=safety_of_buses\n",
    "    self.journey_time=journey_time\n",
    "    self.number_seats=number_seats\n",
    "  def prints_details(self):\n",
    "    pass"
   ]
  },
  {
   "cell_type": "code",
   "execution_count": 3,
   "id": "beea5c40",
   "metadata": {},
   "outputs": [],
   "source": [
    "class Car(Vehicles):\n",
    "  def __init__(slef,number_tyers,type_engine):\n",
    "    self.number_tyers=number_tyers\n",
    "    self.type_engine=type_engine\n",
    "\n",
    "  def display(self):\n",
    "    super().print_Details()\n",
    "    print(\"The inforamtion about car is printed\")\n",
    "    print(\"The number of  tyers in Car\",self.number_tyers)\n",
    "    print(\"The color of the vehicles\",self.type_engine)\n",
    "\n",
    "\n",
    "class Pick_ups(Car):\n",
    "  def __init__(self):\n",
    "    pass\n",
    "  def prints_details(self):\n",
    "    pass\n",
    "\n",
    "class Vans(Car):\n",
    "  def __init__(self):\n",
    "    pass\n",
    "  def prints_details(self):\n",
    "    pass  \n",
    "\n",
    "\n",
    "class Sports_cars(Car):\n",
    "  def __init__(self):\n",
    "    pass\n",
    "  def prints_details(self):\n",
    "    pass  \n",
    "class Estate_cars(Car):\n",
    "  def __init__(self):\n",
    "    pass\n",
    "  def prints_details(self):\n",
    "    pass\n",
    "\n",
    "class Convertertible(Car):\n",
    "  def __init__(self):\n",
    "    pass\n",
    "  def prints_details(self):\n",
    "    pass     \n"
   ]
  },
  {
   "cell_type": "code",
   "execution_count": 4,
   "id": "e418bd8c",
   "metadata": {},
   "outputs": [],
   "source": [
    "class Bikes(Vehicles):\n",
    "  def __init__(self,number_tyers,type_engine):\n",
    "    self.number_tyers=number_tyers\n",
    "    self.type_engine=type_engine\n",
    "  def display(self):\n",
    "    super().print_Details()\n",
    "    print(\"The inforamtion about car is printed\")\n",
    "    print(\"The number of  tyers in Car\",self.number_tyers)\n",
    "    print(\"The color of the vehicles\",self.type_engine)\n",
    "class Pedal_bikes(Bikes):\n",
    "  def __init__(self,):\n",
    "    pass\n",
    "  def printed_detalis():\n",
    "    print(\"this is pedal bikes\")\n",
    "class Motor_bikes(Bikes):\n",
    "   def __init__(self):\n",
    "     pass\n",
    "   def details(self):\n",
    "     print(\"the is motor bikes\")\n",
    "     \n"
   ]
  },
  {
   "cell_type": "code",
   "execution_count": 5,
   "id": "f787ba9e",
   "metadata": {},
   "outputs": [],
   "source": [
    "\"\"\"Multilevel Inheritance\"\"\"\n",
    "class Trucks(Vehicles):\n",
    "  def __init__(self):\n",
    "    pass\n",
    "  def prints_details(self):\n",
    "    pass\n",
    "class Medium_trucks(Buses):\n",
    "  def __init__(self):\n",
    "    pass\n",
    "  def prints_details(self):\n",
    "    pass   \n",
    "\n",
    "class Heavy_trucks(Buses):\n",
    "  def __init__(self):\n",
    "    pass\n",
    "  def prints_details(self):\n",
    "    pass  "
   ]
  },
  {
   "cell_type": "code",
   "execution_count": 6,
   "id": "1aaf585b",
   "metadata": {},
   "outputs": [],
   "source": [
    "\"\"\"Multiple Inheritance\"\"\"\n",
    "class Driver(Heavy_trucks,Medium_trucks,Buses,Pedal_bikes,Pick_ups,Vans,Sports_cars,Estate_cars,Convertertible):\n",
    "  def __init__(self,name,cnic,l_number,Address):\n",
    "    self.name=name\n",
    "    self.cnic=cnic\n",
    "    self.l_number=l_number\n",
    "    slef.Address=Address\n",
    "  \n",
    "  def print_inforamtion_Driver():\n",
    "    print(\"The name of the driver is \",self.name)\n",
    "    print(\"The CNIC of the driver is \",self.cnic)\n",
    "    print(\"The lience number  of the driver is \",self.l_number)\n",
    "    print(\"The Address of the driver is \",self.Address)\n",
    "    "
   ]
  },
  {
   "cell_type": "code",
   "execution_count": 13,
   "id": "78013cea",
   "metadata": {},
   "outputs": [],
   "source": [
    "\n",
    "\n",
    "\n",
    "def main():\n",
    "    print(\"welcome to the main menu\")\n",
    "    while(True):\n",
    "        x=input(int(\"please the any of the following \"))\n",
    "        if x==1:\n",
    "            a=input(\"enter the model of Vehicles\")\n",
    "            b=input(\"enter the number of the Vehicles\")\n",
    "            c=input(\"enter the color of the vehicles\")\n",
    "            vehicles=Vehicles(a,b,c)\n",
    "            print(\"the details of the vehicles is \")\n",
    "            vechicles.print_Details()\n",
    "        elif x==2:\n",
    "            pass\n",
    "        else:\n",
    "            pass\n",
    "        \n",
    "          \n",
    "if __name__==\"__main\":\n",
    "    print(\"welcome to the main menu\")\n",
    "    "
   ]
  },
  {
   "cell_type": "code",
   "execution_count": null,
   "id": "331f287b",
   "metadata": {},
   "outputs": [],
   "source": []
  },
  {
   "cell_type": "code",
   "execution_count": 9,
   "id": "278b75a7",
   "metadata": {},
   "outputs": [],
   "source": [
    "\"\"\" find the distance between to object using class and object concept\"\"\"\n",
    "\n",
    "import math\n",
    "class point:\n",
    "    def move(self,x,y):\n",
    "        self.x=x\n",
    "        self.y=y\n",
    "    def reset(self):\n",
    "        self.move(0,0)\n",
    "    def calculate_distance(self,other_point):\n",
    "        return math.sqrt((self.x-other_point.x)**2 +\n",
    "                         (self.y-other_point.y)**2)\n",
    "                         "
   ]
  },
  {
   "cell_type": "code",
   "execution_count": null,
   "id": "e6577e5f",
   "metadata": {},
   "outputs": [],
   "source": []
  },
  {
   "cell_type": "code",
   "execution_count": 11,
   "id": "7749c832",
   "metadata": {},
   "outputs": [
    {
     "name": "stdout",
     "output_type": "stream",
     "text": [
      "2.8284271247461903\n"
     ]
    }
   ],
   "source": [
    "point1=point()   #creat the object of the class\n",
    "point2=point()\n",
    "point1.reset()   # make the first point is zero x=0,y=0\n",
    "point2.move(2,2)  #  x=3,y=5\n",
    "#print the distance\n",
    "print(point1.calculate_distance(point2))"
   ]
  },
  {
   "cell_type": "code",
   "execution_count": 13,
   "id": "ee8115db",
   "metadata": {},
   "outputs": [],
   "source": [
    "class Property:\n",
    "    def __init__(self,square_feet='',beds='',baths='',**kwargs):\n",
    "        super().__init__(**kwargs)\n",
    "        self.square_feet=square\n",
    "        self.number_bedrooms=beds\n",
    "        self.number_baths=baths\n",
    "    def display(self):\n",
    "        print(\"PROPERTY DETAILS\")\n",
    "        Print(\" -------------\")\n",
    "        print(\"square footage:\".format(slef.square_feet))\n",
    "        print(\"square footage:\".format(slef.number_bedsrooms))\n",
    "        print(\"square footage:\".format(slef.number_baths))\n",
    "    def prompt_init():\n",
    "        return dict(square_feet=input(\"enter the square feet\"),\n",
    "                   beds=input(\"enter the number of bedrooms:\"),\n",
    "                    baths=input(\"enter the number of baths\")          \n",
    "                   )\n",
    "    prompt_init=staticmethod(prompt_init)                "
   ]
  },
  {
   "cell_type": "code",
   "execution_count": null,
   "id": "734322af",
   "metadata": {},
   "outputs": [],
   "source": [
    "class Apartment(Property):\n",
    "    def __init__(self,balcony,laundry):\n",
    "        self.balcony=balcony\n",
    "        self.laundry=launfry"
   ]
  }
 ],
 "metadata": {
  "kernelspec": {
   "display_name": "Python 3",
   "language": "python",
   "name": "python3"
  },
  "language_info": {
   "codemirror_mode": {
    "name": "ipython",
    "version": 3
   },
   "file_extension": ".py",
   "mimetype": "text/x-python",
   "name": "python",
   "nbconvert_exporter": "python",
   "pygments_lexer": "ipython3",
   "version": "3.8.8"
  }
 },
 "nbformat": 4,
 "nbformat_minor": 5
}
