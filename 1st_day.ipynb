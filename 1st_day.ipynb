{
  "nbformat": 4,
  "nbformat_minor": 0,
  "metadata": {
    "colab": {
      "name": "1st_day.ipynb",
      "provenance": [],
      "authorship_tag": "ABX9TyNWh3zubU5QaFZKA8STLQ+Q",
      "include_colab_link": true
    },
    "kernelspec": {
      "name": "python3",
      "display_name": "Python 3"
    },
    "language_info": {
      "name": "python"
    }
  },
  "cells": [
    {
      "cell_type": "markdown",
      "metadata": {
        "id": "view-in-github",
        "colab_type": "text"
      },
      "source": [
        "<a href=\"https://colab.research.google.com/github/Ewaqarkhan/python-basic-/blob/python/1st_day.ipynb\" target=\"_parent\"><img src=\"https://colab.research.google.com/assets/colab-badge.svg\" alt=\"Open In Colab\"/></a>"
      ]
    },
    {
      "cell_type": "markdown",
      "source": [
        "**1st project**\n",
        "*Create Band Name Generater*"
      ],
      "metadata": {
        "id": "gtSwDdsgqHLw"
      }
    },
    {
      "cell_type": "code",
      "source": [
        "City_name=str(input(\"Name of the city you grew up in \"))\n",
        "Pet_name=str(input(\"Name of the Pet\"))\n",
        "print(\"The band name \",City_name + \" \"+ Pet_name)"
      ],
      "metadata": {
        "colab": {
          "base_uri": "https://localhost:8080/"
        },
        "id": "ZW4xaA5cqhgE",
        "outputId": "f16ece21-25ab-449b-9627-ab1628d9d348"
      },
      "execution_count": 3,
      "outputs": [
        {
          "output_type": "stream",
          "name": "stdout",
          "text": [
            "Name of the city you grew up in lahor\n",
            "Name of the Petcat\n",
            "The band name  lahor cat\n"
          ]
        }
      ]
    },
    {
      "cell_type": "markdown",
      "source": [
        "**2nd project**\n",
        "*Create Tip calculator*"
      ],
      "metadata": {
        "id": "OykYgjArsIQ4"
      }
    },
    {
      "cell_type": "code",
      "source": [
        "print(\"Welocme to the tip calculator\")\n",
        "Total_bill=int(input(\"What was the Total bill? $\"))\n",
        "Percentage_tip=int(input(\"\"\"What percentage tip would you like to give?\n",
        "10,12 or 15 ?\n",
        "\n",
        "\"\"\"))\n",
        "Number_people=int(input(\"How many people to split the bill?\"))\n",
        "pay_bill=(Total_bill+(Total_bill*(Percentage_tip/100)))/Number_people\n",
        "print(\"Each person should pay \",round(pay_bill,2))\n",
        "\n"
      ],
      "metadata": {
        "colab": {
          "base_uri": "https://localhost:8080/"
        },
        "id": "7iDuL_1esahH",
        "outputId": "c151bd4c-472c-4f7d-b093-63457dbfb823"
      },
      "execution_count": 8,
      "outputs": [
        {
          "output_type": "stream",
          "name": "stdout",
          "text": [
            "Welocme to the tip calculator\n",
            "What was the Total bill? $124\n",
            "What percentage tip would you like to give?\n",
            "10,12 or 15 ?\n",
            "\n",
            "12\n",
            "How many people to split the bill?7\n",
            "Each person should pay  19.84\n"
          ]
        }
      ]
    },
    {
      "cell_type": "markdown",
      "source": [
        "**3rd_project**\n",
        "Welcome to Treasure Island"
      ],
      "metadata": {
        "id": "kRwwN-JjxO0S"
      }
    },
    {
      "cell_type": "code",
      "source": [
        "print(\"\"\"Welcome to Treasure Island.\n",
        "Your mission is to find the Treasure\n",
        "\"\"\")\n",
        "Left_Right=str(input(\" You want to move Left Or Right\"))\n",
        "if Left_Right==\"Right\":\n",
        "  print(\"Game is over\")\n",
        "else:\n",
        "  swim_wait=str(input(\"you want to swim or wait\"))\n",
        "  if swim_wait==\"Swaim\" :\n",
        "    print(\"Game is over\")\n",
        "  else:\n",
        "    RBY=str(input(\"Red  Blue Or Yellow\"))\n",
        "    if RBY==\"Blue\" or 'blue':\n",
        "      print(\"Game is over\")\n",
        "    elif RBY==\"Red\" or 'Yellow':\n",
        "      print(\"Game is over\")\n",
        "    else:\n",
        "      print(\"You Win!\")\n",
        "\n"
      ],
      "metadata": {
        "colab": {
          "base_uri": "https://localhost:8080/"
        },
        "id": "IfOwF-I0rBVe",
        "outputId": "d0e6fb66-8005-43c2-bdd0-bb06e0ab86e6"
      },
      "execution_count": 11,
      "outputs": [
        {
          "output_type": "stream",
          "name": "stdout",
          "text": [
            "Welcome to Treasure Island.\n",
            "Your mission is to find the Treasure\n",
            "\n",
            " You want to move Left Or Rightleft\n",
            "you want to swim or waitwait\n",
            "Red  Blue Or YellowRed\n",
            "Game is over\n"
          ]
        }
      ]
    },
    {
      "cell_type": "code",
      "source": [],
      "metadata": {
        "id": "52aWdjNRzoAY"
      },
      "execution_count": null,
      "outputs": []
    }
  ]
}