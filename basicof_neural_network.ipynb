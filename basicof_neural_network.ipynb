{
 "cells": [
  {
   "cell_type": "markdown",
   "id": "581e3ec5-9c14-46a6-9012-d4af7ab8be51",
   "metadata": {},
   "source": [
    "Neural Networks \n",
    "1st class "
   ]
  },
  {
   "cell_type": "markdown",
   "id": "b80f7488-5030-47e8-bc06-24fdca11399a",
   "metadata": {},
   "source": [
    "y=Wi*Xi+B\n",
    "where xi is input Wi is weights and B is the bias\n",
    "yin=x1.w1+x2.w2+x3.w3…xm.wm\n",
    " \n",
    " \n",
    "applying the activation function\n",
    "\n",
    "\n",
    "\n",
    "\n",
    "\n",
    "Y=F(yin)\n"
   ]
  },
  {
   "cell_type": "code",
   "execution_count": 36,
   "id": "b652ec44-92f8-425e-8da1-0a1c96b31396",
   "metadata": {},
   "outputs": [],
   "source": [
    "import numpy as np\n",
    "import math\n",
    "x=[1,2,3,4,5]\n",
    "w=[0.1,0.2,0.3,0.4,0.5]\n",
    "B=0\n"
   ]
  },
  {
   "cell_type": "markdown",
   "id": "b39fa0a6-3433-4938-93d1-f1a06a747af4",
   "metadata": {},
   "source": [
    "first we multiply the weights with inputs and the we will add Bias"
   ]
  },
  {
   "cell_type": "code",
   "execution_count": 37,
   "id": "4a8e88f9-dea1-4dbd-8cf0-751df67ec9b1",
   "metadata": {
    "tags": []
   },
   "outputs": [
    {
     "name": "stdout",
     "output_type": "stream",
     "text": [
      "[0.1 0.4 0.9 1.6 2.5]\n",
      "5.5\n"
     ]
    }
   ],
   "source": [
    "product=np.multiply(x,w)\n",
    "print(product)\n",
    "y=sum(product+B)\n",
    "print(y)"
   ]
  },
  {
   "cell_type": "markdown",
   "id": "69cd5888-5316-4289-9f8f-0b6515e7dbfe",
   "metadata": {},
   "source": [
    "already study in class"
   ]
  },
  {
   "cell_type": "code",
   "execution_count": 43,
   "id": "c903b2a3-cf23-4d81-960d-7a4cf595a480",
   "metadata": {},
   "outputs": [
    {
     "data": {
      "text/plain": [
       "1"
      ]
     },
     "execution_count": 43,
     "metadata": {},
     "output_type": "execute_result"
    }
   ],
   "source": [
    "def activation(y):      #we are using unit function as activation function \n",
    "    if y>=0:\n",
    "        return 1\n",
    "    else:\n",
    "        return 0\n",
    "\n",
    "activation(y)    \n",
    " "
   ]
  },
  {
   "cell_type": "markdown",
   "id": "75958cd8-5e1c-4535-8281-5e72a2535f5e",
   "metadata": {},
   "source": [
    "to understand rectified linear function please visted the following blog\n",
    "https://machinelearningmastery.com/rectified-linear-activation-function-for-deep-learning-neural-networks/"
   ]
  },
  {
   "cell_type": "markdown",
   "id": "1863824a-20ea-4c04-9c3d-6463b8c1db7b",
   "metadata": {},
   "source": [
    "ReLU activation function"
   ]
  },
  {
   "cell_type": "code",
   "execution_count": 44,
   "id": "8ff72049-5a49-41c7-8e94-43e54967686a",
   "metadata": {},
   "outputs": [
    {
     "data": {
      "text/plain": [
       "5.5"
      ]
     },
     "execution_count": 44,
     "metadata": {},
     "output_type": "execute_result"
    }
   ],
   "source": [
    "def rectified_linear_function(y):\n",
    "    return max(0.0, y)\n",
    "rectified(y)"
   ]
  },
  {
   "cell_type": "code",
   "execution_count": 45,
   "id": "7cc3ce0c-57ed-4fe0-b3e6-9062fc59a133",
   "metadata": {},
   "outputs": [
    {
     "data": {
      "text/plain": [
       "0.995929862284104"
      ]
     },
     "execution_count": 45,
     "metadata": {},
     "output_type": "execute_result"
    }
   ],
   "source": [
    "def sigmoid_function(y):\n",
    "    return 1.0 / (1.0 + math.exp(-y))\n",
    "sigmoid_function(y)"
   ]
  },
  {
   "cell_type": "markdown",
   "id": "1afe046c-3f8f-4d93-83c8-ac23ff12665f",
   "metadata": {},
   "source": [
    "tanh can be used as activation function"
   ]
  },
  {
   "cell_type": "code",
   "execution_count": 46,
   "id": "30fad131-f6f7-4b5d-a3c7-931ded8f6e78",
   "metadata": {},
   "outputs": [
    {
     "data": {
      "text/plain": [
       "0.9999665971563038"
      ]
     },
     "execution_count": 46,
     "metadata": {},
     "output_type": "execute_result"
    }
   ],
   "source": [
    "def tanh_function(y):\n",
    "    return math.tanh(y)\n",
    "tanh_function(y)"
   ]
  },
  {
   "cell_type": "markdown",
   "id": "daebc587-5f5d-452e-af8a-53948b7f6e3f",
   "metadata": {},
   "source": [
    "tan invers can be used as activation function"
   ]
  },
  {
   "cell_type": "code",
   "execution_count": 47,
   "id": "469d3383-bf99-4432-bb20-360a7ee53190",
   "metadata": {},
   "outputs": [
    {
     "data": {
      "text/plain": [
       "1.3909428270024184"
      ]
     },
     "execution_count": 47,
     "metadata": {},
     "output_type": "execute_result"
    }
   ],
   "source": [
    "def Arctan_function(y):\n",
    "    return math.atan(y)\n",
    "Arctan_function(y)"
   ]
  },
  {
   "cell_type": "code",
   "execution_count": null,
   "id": "c972c8c0-ef6a-47e3-bcce-f9160a5e2f93",
   "metadata": {},
   "outputs": [],
   "source": []
  }
 ],
 "metadata": {
  "kernelspec": {
   "display_name": "Python 3",
   "language": "python",
   "name": "python3"
  },
  "language_info": {
   "codemirror_mode": {
    "name": "ipython",
    "version": 3
   },
   "file_extension": ".py",
   "mimetype": "text/x-python",
   "name": "python",
   "nbconvert_exporter": "python",
   "pygments_lexer": "ipython3",
   "version": "3.8.8"
  }
 },
 "nbformat": 4,
 "nbformat_minor": 5
}
