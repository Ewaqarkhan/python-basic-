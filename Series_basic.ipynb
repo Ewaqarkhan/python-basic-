{
 "cells": [
  {
   "cell_type": "code",
   "execution_count": 1,
   "id": "c0b1fd80-a506-4eb4-8272-4a759c06ec89",
   "metadata": {},
   "outputs": [],
   "source": [
    "import numpy as np\n",
    "import pandas as pd"
   ]
  },
  {
   "cell_type": "markdown",
   "id": "b0738d75-5bd1-40c4-b6d8-c41fec01d095",
   "metadata": {},
   "source": [
    "Series in pandas"
   ]
  },
  {
   "cell_type": "markdown",
   "id": "9777e580-3380-4214-996e-38e18d5013a2",
   "metadata": {},
   "source": [
    "Series is a one-dimensional labeled array capable of\n",
    "holding any data type (int, str, float, Python objects, etc.)."
   ]
  },
  {
   "cell_type": "markdown",
   "id": "3895d968-db0d-476a-a0c3-673a806eadc3",
   "metadata": {},
   "source": [
    "the basic method to call series in pandas"
   ]
  },
  {
   "cell_type": "code",
   "execution_count": 6,
   "id": "735e5e98-6746-4a28-902a-192130630dff",
   "metadata": {},
   "outputs": [
    {
     "data": {
      "text/plain": [
       "a    1\n",
       "b    2\n",
       "c    3\n",
       "d    4\n",
       "dtype: int64"
      ]
     },
     "execution_count": 6,
     "metadata": {},
     "output_type": "execute_result"
    }
   ],
   "source": [
    "#from list\n",
    "data=[1,2,3,4]\n",
    "index=['a','b','c','d']\n",
    "S=pd.Series(data,index=index)\n",
    "S"
   ]
  },
  {
   "cell_type": "code",
   "execution_count": 8,
   "id": "b3edec2e-637f-4193-a55c-b3ad6629d4cd",
   "metadata": {},
   "outputs": [
    {
     "data": {
      "text/plain": [
       "a    1.124586\n",
       "b   -0.777302\n",
       "c    2.020433\n",
       "d   -0.358957\n",
       "e    2.309007\n",
       "f    0.422812\n",
       "dtype: float64"
      ]
     },
     "execution_count": 8,
     "metadata": {},
     "output_type": "execute_result"
    }
   ],
   "source": [
    "#from ndarray using numpy.random.randn() method\n",
    "data=np.random.randn(6)\n",
    "index=['a','b','c','d','e','f']\n",
    "S=pd.Series(data,index=index)\n",
    "S"
   ]
  },
  {
   "cell_type": "code",
   "execution_count": 10,
   "id": "d259418c-ff11-4c39-959e-08672440edd5",
   "metadata": {},
   "outputs": [
    {
     "data": {
      "text/plain": [
       "a    0.953562\n",
       "b    0.814447\n",
       "c    0.852818\n",
       "d    0.625540\n",
       "e    0.038692\n",
       "f    0.948717\n",
       "dtype: float64"
      ]
     },
     "execution_count": 10,
     "metadata": {},
     "output_type": "execute_result"
    }
   ],
   "source": [
    "#from ndarray using numpy.random.randn() method\n",
    "data=np.random.rand(6)\n",
    "index=['a','b','c','d','e','f']\n",
    "S=pd.Series(data,index=index)\n",
    "S"
   ]
  },
  {
   "cell_type": "markdown",
   "id": "efa886de-c3d3-48b3-91c8-aaece36a9349",
   "metadata": {},
   "source": [
    "Using dict "
   ]
  },
  {
   "cell_type": "code",
   "execution_count": 12,
   "id": "1a0695ff-0e8d-40b7-ae9f-5733f64fa173",
   "metadata": {},
   "outputs": [
    {
     "data": {
      "text/plain": [
       "a    1\n",
       "b    2\n",
       "c    3\n",
       "dtype: int64"
      ]
     },
     "execution_count": 12,
     "metadata": {},
     "output_type": "execute_result"
    }
   ],
   "source": [
    "data={'a':1,'b':2,'c':3}\n",
    "S=pd.Series(data)\n",
    "S"
   ]
  },
  {
   "cell_type": "markdown",
   "id": "13a4c20a-8049-4271-aee2-6d9a330a8b2d",
   "metadata": {},
   "source": [
    "using scalar values "
   ]
  },
  {
   "cell_type": "code",
   "execution_count": 14,
   "id": "6d9d59cb-1074-44b7-a92d-cc6628bf432d",
   "metadata": {},
   "outputs": [
    {
     "data": {
      "text/plain": [
       "a    43\n",
       "b    43\n",
       "c    43\n",
       "d    43\n",
       "e    43\n",
       "f    43\n",
       "dtype: int64"
      ]
     },
     "execution_count": 14,
     "metadata": {},
     "output_type": "execute_result"
    }
   ],
   "source": [
    "index=['a','b','c','d','e','f']\n",
    "S=pd.Series(43,index)\n",
    "S"
   ]
  },
  {
   "cell_type": "code",
   "execution_count": null,
   "id": "b13c20e2-b5d9-4001-8055-53720ad57e39",
   "metadata": {},
   "outputs": [],
   "source": []
  }
 ],
 "metadata": {
  "kernelspec": {
   "display_name": "Python 3",
   "language": "python",
   "name": "python3"
  },
  "language_info": {
   "codemirror_mode": {
    "name": "ipython",
    "version": 3
   },
   "file_extension": ".py",
   "mimetype": "text/x-python",
   "name": "python",
   "nbconvert_exporter": "python",
   "pygments_lexer": "ipython3",
   "version": "3.8.8"
  }
 },
 "nbformat": 4,
 "nbformat_minor": 5
}
