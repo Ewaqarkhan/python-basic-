{
 "cells": [
  {
   "cell_type": "code",
   "execution_count": 22,
   "id": "3851fd80-fa5c-4f53-bc93-b5481c5f5416",
   "metadata": {},
   "outputs": [
    {
     "name": "stdout",
     "output_type": "stream",
     "text": [
      "hello world welcome to python\n"
     ]
    }
   ],
   "source": [
    "#print statment is use to display something\n",
    "print(\"hello world welcome to python\")"
   ]
  },
  {
   "cell_type": "code",
   "execution_count": 3,
   "id": "863aa884-cc85-471d-bb60-67ea5fc43172",
   "metadata": {},
   "outputs": [
    {
     "name": "stdout",
     "output_type": "stream",
     "text": [
      "hello world welcome to python\n"
     ]
    }
   ],
   "source": [
    "print('hello world welcome to python')"
   ]
  },
  {
   "cell_type": "code",
   "execution_count": 6,
   "id": "b2deb941-7bb4-4f8d-a4f1-f761fed4fab1",
   "metadata": {},
   "outputs": [
    {
     "name": "stdout",
     "output_type": "stream",
     "text": [
      "hello world \n",
      " welcome to python\n"
     ]
    }
   ],
   "source": [
    "print(\"hello world \\n welcome to python\")  #break line using \\n"
   ]
  },
  {
   "cell_type": "code",
   "execution_count": 21,
   "id": "f2372d63-addd-4ead-8aeb-af62d2df7233",
   "metadata": {},
   "outputs": [
    {
     "name": "stdout",
     "output_type": "stream",
     "text": [
      "he\tllo world welcome to python\n"
     ]
    }
   ],
   "source": [
    "print(\"he\\tllo world welcome to python\") #adding extra space in words   comments use in python "
   ]
  },
  {
   "cell_type": "code",
   "execution_count": 8,
   "id": "ff0de775-38c5-40b3-bf49-34ff669434b9",
   "metadata": {},
   "outputs": [
    {
     "name": "stdout",
     "output_type": "stream",
     "text": [
      "hello world welcome to python\n"
     ]
    }
   ],
   "source": [
    "x=\"hello world welcome to python\"\n",
    "print(x)"
   ]
  },
  {
   "cell_type": "code",
   "execution_count": 10,
   "id": "2dc1b8cf-9370-4ec5-9715-8a108d33699b",
   "metadata": {},
   "outputs": [
    {
     "name": "stdout",
     "output_type": "stream",
     "text": [
      "hello\n"
     ]
    }
   ],
   "source": [
    "print(x[0:5])"
   ]
  },
  {
   "cell_type": "code",
   "execution_count": 11,
   "id": "5ed445eb-a7f7-477d-84a5-1833b922bfc0",
   "metadata": {},
   "outputs": [
    {
     "name": "stdout",
     "output_type": "stream",
     "text": [
      "hello world welcome to python\n"
     ]
    }
   ],
   "source": [
    "print(x[:])"
   ]
  },
  {
   "cell_type": "code",
   "execution_count": 12,
   "id": "502d9a3f-0445-47fa-a9fb-34617ec0f8e5",
   "metadata": {},
   "outputs": [
    {
     "name": "stdout",
     "output_type": "stream",
     "text": [
      "hello world welcome to pytho\n"
     ]
    }
   ],
   "source": [
    "print(x[:-1])"
   ]
  },
  {
   "cell_type": "code",
   "execution_count": 14,
   "id": "ae4feaea-7531-4dd7-8063-07ddb5d616e8",
   "metadata": {},
   "outputs": [
    {
     "name": "stdout",
     "output_type": "stream",
     "text": [
      "hello world \n"
     ]
    }
   ],
   "source": [
    "print(x[:12])"
   ]
  },
  {
   "cell_type": "code",
   "execution_count": 20,
   "id": "c1f91569-188a-4331-97fb-5fbd1ed1a22e",
   "metadata": {},
   "outputs": [
    {
     "name": "stdout",
     "output_type": "stream",
     "text": [
      "6\n",
      "8\n",
      "16\n",
      "-2\n",
      "0.5\n",
      "2\n"
     ]
    }
   ],
   "source": [
    "x=2\n",
    "y=4 ; z=x+y ;   a=x*y   # multiple statment in one line\n",
    "b=x**y\n",
    "c=x-y\n",
    "d=x/y\n",
    "f=x%y\n",
    "print(z)\n",
    "print(a)\n",
    "print(b)\n",
    "print(c)\n",
    "print(d)\n",
    "print(f)"
   ]
  },
  {
   "cell_type": "markdown",
   "id": "c471abf6-0a57-4375-a8c2-5e56a4fe3b16",
   "metadata": {},
   "source": [
    "Now \n",
    "your task\n",
    "print your name Roll number and your address?\n",
    "print your name Roll number in different lines ? (hints   use \\n)\n",
    "print 2 table  using multplication\n",
    "your output will be \n",
    "2*1=2\n",
    "2*2=4\n",
    ".....\n",
    ".....\n",
    ".....\n",
    "2*10=20"
   ]
  },
  {
   "cell_type": "markdown",
   "id": "85a6d37c-055b-428d-9963-627d3559f2bf",
   "metadata": {},
   "source": [
    "assign variables in python"
   ]
  },
  {
   "cell_type": "code",
   "execution_count": 23,
   "id": "8c3b30ba-b708-462a-93aa-a9993f812248",
   "metadata": {},
   "outputs": [
    {
     "name": "stdout",
     "output_type": "stream",
     "text": [
      "10\n"
     ]
    }
   ],
   "source": [
    "x=10\n",
    "print(x)"
   ]
  },
  {
   "cell_type": "code",
   "execution_count": 24,
   "id": "8a277ccc-eb37-4428-b3a4-33967d816fd9",
   "metadata": {},
   "outputs": [],
   "source": [
    "x=int(10)"
   ]
  },
  {
   "cell_type": "code",
   "execution_count": 25,
   "id": "ef15c5f9-4bec-4e8f-bf40-2ed70dc3c643",
   "metadata": {},
   "outputs": [
    {
     "name": "stdout",
     "output_type": "stream",
     "text": [
      "10\n"
     ]
    }
   ],
   "source": [
    "print(x)"
   ]
  },
  {
   "cell_type": "code",
   "execution_count": 26,
   "id": "29774890-0b3b-4d29-9998-6184cbe30429",
   "metadata": {},
   "outputs": [
    {
     "data": {
      "text/plain": [
       "int"
      ]
     },
     "execution_count": 26,
     "metadata": {},
     "output_type": "execute_result"
    }
   ],
   "source": [
    "type(x)"
   ]
  },
  {
   "cell_type": "code",
   "execution_count": 27,
   "id": "f46b7164-f76e-42e4-900e-804bd04500e8",
   "metadata": {},
   "outputs": [
    {
     "name": "stdout",
     "output_type": "stream",
     "text": [
      "2.0\n"
     ]
    },
    {
     "data": {
      "text/plain": [
       "float"
      ]
     },
     "execution_count": 27,
     "metadata": {},
     "output_type": "execute_result"
    }
   ],
   "source": [
    "x=float(2)\n",
    "print(x)\n",
    "type(x)"
   ]
  },
  {
   "cell_type": "markdown",
   "id": "7750ae14-87d2-451c-b752-0650b3ae451d",
   "metadata": {},
   "source": [
    "Many Values to Multiple Variables\n"
   ]
  },
  {
   "cell_type": "code",
   "execution_count": 28,
   "id": "74bd9caf-85dd-48f2-ae7e-2b6b1a9ef1d5",
   "metadata": {},
   "outputs": [
    {
     "name": "stdout",
     "output_type": "stream",
     "text": [
      "2 3 4\n"
     ]
    }
   ],
   "source": [
    "x,y,z=2,3,4\n",
    "print(x,y,z)"
   ]
  },
  {
   "cell_type": "code",
   "execution_count": 30,
   "id": "59ceaf9e-f69c-4509-912e-f26101068c05",
   "metadata": {},
   "outputs": [
    {
     "name": "stdout",
     "output_type": "stream",
     "text": [
      "hi 143 how are you\n"
     ]
    }
   ],
   "source": [
    "x,y,z=\"hi\",143,\"how are you\"\n",
    "print(x,y,z)"
   ]
  },
  {
   "cell_type": "markdown",
   "id": "a6255e34-452d-4239-92d0-a4e67700d8d5",
   "metadata": {},
   "source": [
    "One Value to Multiple Variables\n"
   ]
  },
  {
   "cell_type": "code",
   "execution_count": 37,
   "id": "e7147689-0d78-4eac-ae3d-c891f24e2c86",
   "metadata": {},
   "outputs": [
    {
     "name": "stdout",
     "output_type": "stream",
     "text": [
      "23 23 23\n"
     ]
    }
   ],
   "source": [
    "x=y=z=23\n",
    "print(x,y,z)"
   ]
  },
  {
   "cell_type": "markdown",
   "id": "a7880607-5ff9-4101-a64f-f0914248e230",
   "metadata": {},
   "source": [
    "Deleting Variables\n"
   ]
  },
  {
   "cell_type": "code",
   "execution_count": 38,
   "id": "760901e2-b829-4e9d-a420-5a8fb2f6d685",
   "metadata": {},
   "outputs": [
    {
     "ename": "NameError",
     "evalue": "name 'x' is not defined",
     "output_type": "error",
     "traceback": [
      "\u001b[1;31m---------------------------------------------------------------------------\u001b[0m",
      "\u001b[1;31mNameError\u001b[0m                                 Traceback (most recent call last)",
      "\u001b[1;32m<ipython-input-38-8c23cd95a3fd>\u001b[0m in \u001b[0;36m<module>\u001b[1;34m\u001b[0m\n\u001b[0;32m      1\u001b[0m \u001b[1;32mdel\u001b[0m \u001b[0mx\u001b[0m\u001b[1;33m\u001b[0m\u001b[1;33m\u001b[0m\u001b[0m\n\u001b[1;32m----> 2\u001b[1;33m \u001b[0mprint\u001b[0m\u001b[1;33m(\u001b[0m\u001b[0mx\u001b[0m\u001b[1;33m)\u001b[0m\u001b[1;33m\u001b[0m\u001b[1;33m\u001b[0m\u001b[0m\n\u001b[0m",
      "\u001b[1;31mNameError\u001b[0m: name 'x' is not defined"
     ]
    }
   ],
   "source": [
    "del x\n",
    "print(x)\n"
   ]
  },
  {
   "cell_type": "code",
   "execution_count": 39,
   "id": "bf93f464-a425-431c-8a4c-249a484847ab",
   "metadata": {},
   "outputs": [
    {
     "name": "stdout",
     "output_type": "stream",
     "text": [
      "34\n"
     ]
    }
   ],
   "source": [
    "x=34\n",
    "print(x)"
   ]
  },
  {
   "cell_type": "code",
   "execution_count": null,
   "id": "4206c5db-1af5-4139-9066-b07f668f2b55",
   "metadata": {},
   "outputs": [],
   "source": []
  }
 ],
 "metadata": {
  "kernelspec": {
   "display_name": "Python 3",
   "language": "python",
   "name": "python3"
  },
  "language_info": {
   "codemirror_mode": {
    "name": "ipython",
    "version": 3
   },
   "file_extension": ".py",
   "mimetype": "text/x-python",
   "name": "python",
   "nbconvert_exporter": "python",
   "pygments_lexer": "ipython3",
   "version": "3.8.8"
  }
 },
 "nbformat": 4,
 "nbformat_minor": 5
}
