{
 "cells": [
  {
   "cell_type": "markdown",
   "id": "ddc11c9e-1a5d-4b77-b5b6-f29aa5f0af95",
   "metadata": {},
   "source": [
    "#Write a program to check whether a person is eligible for voting or not."
   ]
  },
  {
   "cell_type": "code",
   "execution_count": 2,
   "id": "187643af",
   "metadata": {},
   "outputs": [
    {
     "name": "stdin",
     "output_type": "stream",
     "text": [
      "enter the age of the person 12\n"
     ]
    },
    {
     "name": "stdout",
     "output_type": "stream",
     "text": [
      "the person is not eligible for voting\n"
     ]
    }
   ],
   "source": [
    "age=int(input(\"enter the age of the person\"))\n",
    "if age>=18:\n",
    "    print(\"The person can cost the vote in election\")\n",
    "elif age<=17 and age >12:\n",
         "print(\"under age\")\n",
    "else:\n",
    "    print(\"The person is not eligible for voting\")"
   ]
  },
  {
   "cell_type": "markdown",
   "id": "eab21f56-dffd-4c79-a041-90aa9a26ec40",
   "metadata": {},
   "source": [
    "Write a program to check whether a number entered by user is even or odd."
   ]
  },
  {
   "cell_type": "code",
   "execution_count": 4,
   "id": "c4ca5975",
   "metadata": {},
   "outputs": [
    {
     "name": "stdin",
     "output_type": "stream",
     "text": [
      "enter the number 34\n"
     ]
    },
    {
     "name": "stdout",
     "output_type": "stream",
     "text": [
      "number is even\n"
     ]
    }
   ],
   "source": [
    "x=int(input(\"enter the number\"))\n",
    "if x%2==0:\n",
    "    print(\"number is even\")\n",
    "else:\n",
    "    print(\"number is odd\")"
   ]
  },
  {
   "cell_type": "code",
   "execution_count": null,
   "id": "a59f042e",
   "metadata": {},
   "outputs": [],
   "source": [
    "#Write a program to check whether a number is divisible by 7 or not."
   ]
  },
  {
   "cell_type": "code",
   "execution_count": 6,
   "id": "d30434eb",
   "metadata": {},
   "outputs": [
    {
     "name": "stdin",
     "output_type": "stream",
     "text": [
      "enter the number 14\n"
     ]
    },
    {
     "name": "stdout",
     "output_type": "stream",
     "text": [
      "number is divisible by 7 \n"
     ]
    }
   ],
   "source": [
    "x=int(input(\"enter the number\"))\n",
    "if x%7==0:\n",
    "    print(\"number is divisible by 7 \")\n",
    "else:\n",
    "    print(\"number is not divisible by 7\")"
   ]
  },
  {
   "cell_type": "markdown",
   "id": "8703ff2c-fe3c-483c-9dfa-a852648bcb32",
   "metadata": {},
   "source": [
    "Write a program to accept percentage from the user and display the grade according to the following criteria:\n",
    "\n",
    "         Marks                                    Grade\n",
    "         > 90                                       A\n",
    "         > 80 and <= 90                             B\n",
    "         >= 60 and <= 80                            C\n",
    "         below 60                                   D"
   ]
  },
  {
   "cell_type": "code",
   "execution_count": 8,
   "id": "67cd2cfa",
   "metadata": {},
   "outputs": [
    {
     "name": "stdin",
     "output_type": "stream",
     "text": [
      "enter the  marks -10\n"
     ]
    },
    {
     "name": "stdout",
     "output_type": "stream",
     "text": [
      "invaild\n"
     ]
    }
   ],
   "source": [
    "x=int(input(\"enter the  marks\"))\n",
    "if x>90:\n",
    "    print(\"A\")\n",
    "elif x>80 and x<=90:\n",
    "    print(\"B\")\n",
    "elif x>=60 and x<=80:\n",
    "    print(\"C\")\n",
    "elif x<60 and x>=0:\n",
    "    print(\"D\")\n",
    "elif x>100 or x<0:\n",
    "    print(\"invaild\")\n",
    "else:\n",
    "    print(\"nothing\")"
   ]
  },
  {
   "cell_type": "markdown",
   "id": "428b25f3-967d-4277-b490-a472f7cd2992",
   "metadata": {},
   "source": [
    "Write a program to check whether an years is leap year or not."
   ]
  },
  {
   "cell_type": "code",
   "execution_count": 10,
   "id": "a5b63128",
   "metadata": {},
   "outputs": [
    {
     "name": "stdin",
     "output_type": "stream",
     "text": [
      "Enter the year 2014\n"
     ]
    },
    {
     "name": "stdout",
     "output_type": "stream",
     "text": [
      "not leap year\n"
     ]
    }
   ],
   "source": [
    "year=int(input(\"Enter the year\"))\n",
    "if year%100==0:\n",
    "    if year%400==0:\n",
    "        print(\"leap year\")\n",
    "    else:\n",
    "        print(\"not leap year\")\n",
    "else:\n",
    "    if year%4==0:\n",
    "        print(\"leap year\")\n",
    "    else:\n",
    "        print(\"not leap year\")\n",
    "        "
   ]
  },
  {
   "cell_type": "code",
   "execution_count": null,
   "id": "b16ce8c7-feed-4aca-8543-a47953b1a46f",
   "metadata": {},
   "outputs": [],
   "source": []
  }
 ],
 "metadata": {
  "kernelspec": {
   "display_name": "Python 3",
   "language": "python",
   "name": "python3"
  },
  "language_info": {
   "codemirror_mode": {
    "name": "ipython",
    "version": 3
   },
   "file_extension": ".py",
   "mimetype": "text/x-python",
   "name": "python",
   "nbconvert_exporter": "python",
   "pygments_lexer": "ipython3",
   "version": "3.8.8"
  }
 },
 "nbformat": 4,
 "nbformat_minor": 5
}
