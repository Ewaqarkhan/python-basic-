{
 "cells": [
  {
   "cell_type": "code",
   "execution_count": 2,
   "id": "89fd0c1c-49d5-47b4-ae8f-7ab415818e0e",
   "metadata": {},
   "outputs": [],
   "source": [
    "dict={\n",
    "    \"name\":\"waqar khan\",\n",
    "    \"reg_number\":2018507,\n",
    "    \"address\":\"mardan\"\n",
    "}\n"
   ]
  },
  {
   "cell_type": "code",
   "execution_count": 3,
   "id": "6cecd573-0ec9-412b-99d5-d3cd3512f5ba",
   "metadata": {},
   "outputs": [
    {
     "data": {
      "text/plain": [
       "{'name': 'waqar khan', 'reg_number': 2018507, 'address': 'mardan'}"
      ]
     },
     "execution_count": 3,
     "metadata": {},
     "output_type": "execute_result"
    }
   ],
   "source": [
    "dict"
   ]
  },
  {
   "cell_type": "code",
   "execution_count": 4,
   "id": "bb8d74b3-1e9b-4ad4-a00c-2214b428df8d",
   "metadata": {},
   "outputs": [
    {
     "data": {
      "text/plain": [
       "dict"
      ]
     },
     "execution_count": 4,
     "metadata": {},
     "output_type": "execute_result"
    }
   ],
   "source": [
    "type(dict)"
   ]
  },
  {
   "cell_type": "code",
   "execution_count": 5,
   "id": "dab3b9fc-bd8f-4ea5-b63a-cb6d3f58c618",
   "metadata": {},
   "outputs": [
    {
     "name": "stdout",
     "output_type": "stream",
     "text": [
      "waqar khan\n"
     ]
    }
   ],
   "source": [
    "print(dict.get(\"name\"))"
   ]
  },
  {
   "cell_type": "code",
   "execution_count": 6,
   "id": "eb28ea61-bf61-443f-9ef1-d20310a76b76",
   "metadata": {},
   "outputs": [],
   "source": [
    "x=dict.keys()"
   ]
  },
  {
   "cell_type": "code",
   "execution_count": 7,
   "id": "107f8246-1d3a-42ad-a383-cd6f2a900dd4",
   "metadata": {},
   "outputs": [
    {
     "data": {
      "text/plain": [
       "dict_keys(['name', 'reg_number', 'address'])"
      ]
     },
     "execution_count": 7,
     "metadata": {},
     "output_type": "execute_result"
    }
   ],
   "source": [
    "x"
   ]
  },
  {
   "cell_type": "code",
   "execution_count": 8,
   "id": "801e8e5f-0c27-4fed-9f4d-0e151d54a800",
   "metadata": {},
   "outputs": [],
   "source": [
    "y=dict.values()"
   ]
  },
  {
   "cell_type": "code",
   "execution_count": 9,
   "id": "5252da67-64d5-4890-b3a2-9836761d08e5",
   "metadata": {},
   "outputs": [
    {
     "data": {
      "text/plain": [
       "dict_values(['waqar khan', 2018507, 'mardan'])"
      ]
     },
     "execution_count": 9,
     "metadata": {},
     "output_type": "execute_result"
    }
   ],
   "source": [
    "y"
   ]
  },
  {
   "cell_type": "code",
   "execution_count": 10,
   "id": "a5f16e0d-56aa-4b66-8bff-7f7a4a6b4081",
   "metadata": {},
   "outputs": [],
   "source": [
    "dict[\"blood_group\"]=\"O positive\""
   ]
  },
  {
   "cell_type": "code",
   "execution_count": 11,
   "id": "d36e8cb4-d029-4424-8867-68dd9e0b8637",
   "metadata": {},
   "outputs": [
    {
     "data": {
      "text/plain": [
       "{'name': 'waqar khan',\n",
       " 'reg_number': 2018507,\n",
       " 'address': 'mardan',\n",
       " 'blood_group': 'O positive'}"
      ]
     },
     "execution_count": 11,
     "metadata": {},
     "output_type": "execute_result"
    }
   ],
   "source": [
    "dict"
   ]
  },
  {
   "cell_type": "code",
   "execution_count": 30,
   "id": "53d6c3a1-b27e-43ab-9eac-e02d4f8bcbfd",
   "metadata": {},
   "outputs": [],
   "source": [
    "dict.update({\"address\":\"islamabad\"})"
   ]
  },
  {
   "cell_type": "code",
   "execution_count": 29,
   "id": "4c6afa9d-6595-4843-8624-ead48da13fed",
   "metadata": {},
   "outputs": [
    {
     "data": {
      "text/plain": [
       "{'name': 'waqar khan', 'reg_number': 2018507, 'address': 'islamabad'}"
      ]
     },
     "execution_count": 29,
     "metadata": {},
     "output_type": "execute_result"
    }
   ],
   "source": [
    "dict"
   ]
  },
  {
   "cell_type": "code",
   "execution_count": null,
   "id": "2538962b-9f5b-47e3-9822-e44fdee2897d",
   "metadata": {},
   "outputs": [],
   "source": []
  },
  {
   "cell_type": "code",
   "execution_count": 33,
   "id": "94237231-16e7-4bab-a4da-816a0b1db09e",
   "metadata": {},
   "outputs": [
    {
     "data": {
      "text/plain": [
       "{'name': 'waqar khan', 'reg_number': 2018507, 'address': 'islamabad'}"
      ]
     },
     "execution_count": 33,
     "metadata": {},
     "output_type": "execute_result"
    }
   ],
   "source": [
    "dict"
   ]
  },
  {
   "cell_type": "code",
   "execution_count": 18,
   "id": "69324c1b-180b-47bd-8520-6c2503d7d8fa",
   "metadata": {},
   "outputs": [],
   "source": [
    "del dict[\"address\"]"
   ]
  },
  {
   "cell_type": "code",
   "execution_count": 20,
   "id": "46834ce5-0d66-43b4-b55f-858715a2d6af",
   "metadata": {},
   "outputs": [
    {
     "data": {
      "text/plain": [
       "{'name': 'waqar khan', 'reg_number': 2018507}"
      ]
     },
     "execution_count": 20,
     "metadata": {},
     "output_type": "execute_result"
    }
   ],
   "source": [
    "dict"
   ]
  },
  {
   "cell_type": "code",
   "execution_count": 21,
   "id": "6ac07d6f-526d-4b5d-a3dc-02e0c968e788",
   "metadata": {},
   "outputs": [],
   "source": [
    "dict1=dict.copy()"
   ]
  },
  {
   "cell_type": "code",
   "execution_count": 22,
   "id": "ec3fae00-df19-48a6-a45b-86de78e7abaa",
   "metadata": {},
   "outputs": [
    {
     "data": {
      "text/plain": [
       "{'name': 'waqar khan', 'reg_number': 2018507}"
      ]
     },
     "execution_count": 22,
     "metadata": {},
     "output_type": "execute_result"
    }
   ],
   "source": [
    "dict1"
   ]
  },
  {
   "cell_type": "code",
   "execution_count": 24,
   "id": "c05f97a6-8ebd-41f6-a099-1c4e376000ec",
   "metadata": {},
   "outputs": [
    {
     "name": "stdout",
     "output_type": "stream",
     "text": [
      "name waqar khan\n",
      "reg_number 2018507\n"
     ]
    }
   ],
   "source": [
    "for x,y in dict.items():\n",
    "    print(x,y)"
   ]
  },
  {
   "cell_type": "code",
   "execution_count": null,
   "id": "b5e2acfd-0a50-4899-bce0-ade415c8e3d3",
   "metadata": {},
   "outputs": [],
   "source": []
  }
 ],
 "metadata": {
  "kernelspec": {
   "display_name": "Python 3",
   "language": "python",
   "name": "python3"
  },
  "language_info": {
   "codemirror_mode": {
    "name": "ipython",
    "version": 3
   },
   "file_extension": ".py",
   "mimetype": "text/x-python",
   "name": "python",
   "nbconvert_exporter": "python",
   "pygments_lexer": "ipython3",
   "version": "3.8.8"
  }
 },
 "nbformat": 4,
 "nbformat_minor": 5
}
