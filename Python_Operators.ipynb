{
 "cells": [
  {
   "cell_type": "markdown",
   "id": "8c97403a-2c70-450a-bb3e-2cbe39c377cd",
   "metadata": {},
   "source": [
    "Python Operators"
   ]
  },
  {
   "cell_type": "markdown",
   "id": "8932963e-1a2b-49aa-986f-16ed3ef5439e",
   "metadata": {},
   "source": [
    "Arithmetic operators!"
   ]
  },
  {
   "cell_type": "code",
   "execution_count": 1,
   "id": "cdccc787-a449-4733-9388-e73fe37312c7",
   "metadata": {},
   "outputs": [],
   "source": [
    "#addition"
   ]
  },
  {
   "cell_type": "code",
   "execution_count": 11,
   "id": "3f48782d-c192-4e48-9f8f-21b57d7fe6d7",
   "metadata": {},
   "outputs": [
    {
     "name": "stdout",
     "output_type": "stream",
     "text": [
      "99\n"
     ]
    }
   ],
   "source": [
    "x=45\n",
    "y=54\n",
    "z=x+y\n",
    "print(z)"
   ]
  },
  {
   "cell_type": "code",
   "execution_count": 12,
   "id": "d1f2761e-79bc-4f63-b65b-9d9c1393032d",
   "metadata": {},
   "outputs": [
    {
     "name": "stdin",
     "output_type": "stream",
     "text": [
      "enter the valur of x 43\n",
      "enter the valur of y 54\n"
     ]
    },
    {
     "name": "stdout",
     "output_type": "stream",
     "text": [
      "97\n"
     ]
    }
   ],
   "source": [
    "x=int(input(\"enter the valur of x\"))\n",
    "y=int(input(\"enter the valur of y\"))\n",
    "z=x+y\n",
    "print(z)"
   ]
  },
  {
   "cell_type": "code",
   "execution_count": 13,
   "id": "5842cc8e-7377-41b3-8934-32a8d1200836",
   "metadata": {},
   "outputs": [
    {
     "name": "stdin",
     "output_type": "stream",
     "text": [
      "enter the valur of a 45\n",
      "enter the valur of b 34\n"
     ]
    },
    {
     "data": {
      "text/plain": [
       "79"
      ]
     },
     "execution_count": 13,
     "metadata": {},
     "output_type": "execute_result"
    }
   ],
   "source": [
    "#using function add two number\n",
    "def sum(a,b):\n",
    "    return a+b\n",
    "a=int(input(\"enter the valur of a\"))\n",
    "b=int(input(\"enter the valur of b\"))\n",
    "sum(a,b)"
   ]
  },
  {
   "cell_type": "code",
   "execution_count": 8,
   "id": "7cc5d6a8-27fb-4980-90cc-f82649819392",
   "metadata": {},
   "outputs": [],
   "source": [
    "#subtration"
   ]
  },
  {
   "cell_type": "code",
   "execution_count": 14,
   "id": "869aef6d-789b-4f3b-938a-b174a6f39317",
   "metadata": {},
   "outputs": [
    {
     "name": "stdout",
     "output_type": "stream",
     "text": [
      "-9\n"
     ]
    }
   ],
   "source": [
    "x=45\n",
    "y=54\n",
    "z=x-y\n",
    "print(z)"
   ]
  },
  {
   "cell_type": "code",
   "execution_count": 15,
   "id": "2ed51bd8-ab75-4634-8909-9f1187dafea6",
   "metadata": {},
   "outputs": [
    {
     "name": "stdin",
     "output_type": "stream",
     "text": [
      "enter the valur of x 54\n",
      "enter the valur of y 65\n"
     ]
    },
    {
     "name": "stdout",
     "output_type": "stream",
     "text": [
      "-11\n"
     ]
    }
   ],
   "source": [
    "x=int(input(\"enter the valur of x\"))\n",
    "y=int(input(\"enter the valur of y\"))\n",
    "z=x-y\n",
    "print(z)"
   ]
  },
  {
   "cell_type": "code",
   "execution_count": 6,
   "id": "4358346f-933f-4ec9-bcac-279c16ea1f36",
   "metadata": {},
   "outputs": [
    {
     "name": "stdin",
     "output_type": "stream",
     "text": [
      "enter the valur of a 54\n",
      "enter the valur of b 34\n"
     ]
    },
    {
     "data": {
      "text/plain": [
       "20"
      ]
     },
     "execution_count": 6,
     "metadata": {},
     "output_type": "execute_result"
    }
   ],
   "source": [
    "#using function subtration two number\n",
    "def sub(a,b):\n",
    "    return a-b\n",
    "a=int(input(\"enter the valur of a\"))\n",
    "b=int(input(\"enter the valur of b\"))\n",
    "sub(a,b)"
   ]
  },
  {
   "cell_type": "code",
   "execution_count": 4,
   "id": "bcc4b1e4-e70c-4da5-a58b-7a111eb3992c",
   "metadata": {},
   "outputs": [],
   "source": [
    "#Multiplication\n"
   ]
  },
  {
   "cell_type": "code",
   "execution_count": 7,
   "id": "e9fdbdd2-7d48-4d15-8e7c-727eb9791ed8",
   "metadata": {},
   "outputs": [
    {
     "name": "stdout",
     "output_type": "stream",
     "text": [
      "2430\n"
     ]
    }
   ],
   "source": [
    "x=45\n",
    "y=54\n",
    "z=x*y\n",
    "print(z)"
   ]
  },
  {
   "cell_type": "code",
   "execution_count": 8,
   "id": "7604afb4-f8b0-43f0-b956-299d1be2712d",
   "metadata": {},
   "outputs": [
    {
     "name": "stdin",
     "output_type": "stream",
     "text": [
      "enter the valur of x 54\n",
      "enter the valur of y 34\n"
     ]
    },
    {
     "name": "stdout",
     "output_type": "stream",
     "text": [
      "1836\n"
     ]
    }
   ],
   "source": [
    "x=int(input(\"enter the valur of x\"))\n",
    "y=int(input(\"enter the valur of y\"))\n",
    "z=x*y\n",
    "print(z)"
   ]
  },
  {
   "cell_type": "code",
   "execution_count": 9,
   "id": "f777f716-0a3e-46a1-865d-51ffd54ff300",
   "metadata": {},
   "outputs": [
    {
     "name": "stdin",
     "output_type": "stream",
     "text": [
      "enter the valur of a 54\n",
      "enter the valur of b 34\n"
     ]
    },
    {
     "data": {
      "text/plain": [
       "1836"
      ]
     },
     "execution_count": 9,
     "metadata": {},
     "output_type": "execute_result"
    }
   ],
   "source": [
    "def mult(a,b):\n",
    "    return a*b\n",
    "a=int(input(\"enter the valur of a\"))\n",
    "b=int(input(\"enter the valur of b\"))\n",
    "mult(a,b)"
   ]
  },
  {
   "cell_type": "markdown",
   "id": "938644e0-e305-481c-8ba6-e2fc9fe83287",
   "metadata": {},
   "source": [
    "#### "
   ]
  },
  {
   "cell_type": "code",
   "execution_count": 5,
   "id": "38630c80-7527-455c-81d9-ae92aacc1a1d",
   "metadata": {},
   "outputs": [],
   "source": [
    "#Division\n"
   ]
  },
  {
   "cell_type": "code",
   "execution_count": 5,
   "id": "d2f2e454-ec3f-4ba1-90fe-08e425141763",
   "metadata": {},
   "outputs": [
    {
     "data": {
      "text/plain": [
       "4.0"
      ]
     },
     "execution_count": 5,
     "metadata": {},
     "output_type": "execute_result"
    }
   ],
   "source": [
    "12/3"
   ]
  },
  {
   "cell_type": "code",
   "execution_count": 6,
   "id": "f8ed72f6-3670-4038-aad7-915252a0f62d",
   "metadata": {},
   "outputs": [
    {
     "name": "stdout",
     "output_type": "stream",
     "text": [
      "4.0\n"
     ]
    }
   ],
   "source": [
    "a=12\n",
    "b=3\n",
    "print(a/b)"
   ]
  },
  {
   "cell_type": "code",
   "execution_count": null,
   "id": "9bc5db9e-a487-453c-8a9e-6acc09cc340f",
   "metadata": {},
   "outputs": [],
   "source": [
    "def divid(a,b):\n",
    "    return a/b\n",
    "a=int(input(\"enter the valur of a\"))\n",
    "b=int(input(\"enter the valur of b\"))\n",
    "divid(a,b)"
   ]
  },
  {
   "cell_type": "code",
   "execution_count": 6,
   "id": "a81acad6-5d38-4e70-914c-95a7d145a83d",
   "metadata": {},
   "outputs": [],
   "source": [
    "#Modulus\n"
   ]
  },
  {
   "cell_type": "code",
   "execution_count": 3,
   "id": "004c59a0-9427-4453-8938-9ccab361c863",
   "metadata": {},
   "outputs": [
    {
     "name": "stdout",
     "output_type": "stream",
     "text": [
      "2\n"
     ]
    }
   ],
   "source": [
    "a=12\n",
    "b=5\n",
    "print(a%b)"
   ]
  },
  {
   "cell_type": "code",
   "execution_count": 4,
   "id": "a5f24bf0-4f66-42d1-9e60-9d52377461d1",
   "metadata": {},
   "outputs": [
    {
     "name": "stdout",
     "output_type": "stream",
     "text": [
      "0\n"
     ]
    }
   ],
   "source": [
    "a=12\n",
    "b=3\n",
    "print(a%b)"
   ]
  },
  {
   "cell_type": "code",
   "execution_count": 7,
   "id": "e001d52e-9b13-4462-95df-dda34426c15f",
   "metadata": {},
   "outputs": [
    {
     "name": "stdin",
     "output_type": "stream",
     "text": [
      "enter the valur of a 34\n",
      "enter the valur of b 53\n"
     ]
    },
    {
     "data": {
      "text/plain": [
       "34"
      ]
     },
     "execution_count": 7,
     "metadata": {},
     "output_type": "execute_result"
    }
   ],
   "source": [
    "def modulas(a,b):\n",
    "    return a%b\n",
    "a=int(input(\"enter the valur of a\"))\n",
    "b=int(input(\"enter the valur of b\"))\n",
    "modulas(a,b)"
   ]
  },
  {
   "cell_type": "code",
   "execution_count": 7,
   "id": "38da61e8-06b2-4e56-a459-db9cf4b9b4ac",
   "metadata": {},
   "outputs": [],
   "source": [
    "#Exponentiation\n"
   ]
  },
  {
   "cell_type": "code",
   "execution_count": 8,
   "id": "449bf972-90a9-4a52-8ced-a14fe9a43e01",
   "metadata": {},
   "outputs": [
    {
     "data": {
      "text/plain": [
       "8"
      ]
     },
     "execution_count": 8,
     "metadata": {},
     "output_type": "execute_result"
    }
   ],
   "source": [
    "2**3"
   ]
  },
  {
   "cell_type": "code",
   "execution_count": 9,
   "id": "d40a7d97-0cef-4bf5-ad9f-f10c2711c516",
   "metadata": {},
   "outputs": [
    {
     "name": "stdout",
     "output_type": "stream",
     "text": [
      "1728\n"
     ]
    }
   ],
   "source": [
    "a=12\n",
    "b=3\n",
    "print(a**b)"
   ]
  },
  {
   "cell_type": "code",
   "execution_count": 10,
   "id": "e9f13282-b7ad-43b2-ab92-017edb5a3cef",
   "metadata": {},
   "outputs": [
    {
     "name": "stdin",
     "output_type": "stream",
     "text": [
      "enter the valur of a 34\n",
      "enter the valur of b 2\n"
     ]
    },
    {
     "data": {
      "text/plain": [
       "1156"
      ]
     },
     "execution_count": 10,
     "metadata": {},
     "output_type": "execute_result"
    }
   ],
   "source": [
    "def exponentiation(a,b):\n",
    "    return a**b\n",
    "a=int(input(\"enter the valur of a\"))\n",
    "b=int(input(\"enter the valur of b\"))\n",
    "exponentiation(a,b)"
   ]
  },
  {
   "cell_type": "markdown",
   "id": "75eb3c80-aa88-47f3-84a8-10709bc42bfb",
   "metadata": {},
   "source": [
    "Comparison Operators"
   ]
  },
  {
   "cell_type": "markdown",
   "id": "b5a293a1-9f3f-4fa4-83f5-514d6a041431",
   "metadata": {},
   "source": [
    "Greater Than (>)\n"
   ]
  },
  {
   "cell_type": "code",
   "execution_count": 1,
   "id": "33f31f80-ff03-467c-937a-25df69f80d5b",
   "metadata": {},
   "outputs": [
    {
     "data": {
      "text/plain": [
       "False"
      ]
     },
     "execution_count": 1,
     "metadata": {},
     "output_type": "execute_result"
    }
   ],
   "source": [
    "4>5"
   ]
  },
  {
   "cell_type": "code",
   "execution_count": 2,
   "id": "be97226b-56d9-43f9-94f8-aefc6f958452",
   "metadata": {},
   "outputs": [
    {
     "data": {
      "text/plain": [
       "True"
      ]
     },
     "execution_count": 2,
     "metadata": {},
     "output_type": "execute_result"
    }
   ],
   "source": [
    "4<5"
   ]
  },
  {
   "cell_type": "code",
   "execution_count": 3,
   "id": "9f2470d9-d5ed-44e9-84a8-c65ea2980ea5",
   "metadata": {},
   "outputs": [
    {
     "data": {
      "text/plain": [
       "False"
      ]
     },
     "execution_count": 3,
     "metadata": {},
     "output_type": "execute_result"
    }
   ],
   "source": [
    "5>=6"
   ]
  },
  {
   "cell_type": "code",
   "execution_count": 4,
   "id": "cb3e42c5-7844-40ef-87e0-3ff282cc1f1f",
   "metadata": {},
   "outputs": [
    {
     "data": {
      "text/plain": [
       "True"
      ]
     },
     "execution_count": 4,
     "metadata": {},
     "output_type": "execute_result"
    }
   ],
   "source": [
    "4<=6"
   ]
  },
  {
   "cell_type": "code",
   "execution_count": 5,
   "id": "f738853e-9e63-45bb-a3b4-b64efb3c75ae",
   "metadata": {},
   "outputs": [
    {
     "data": {
      "text/plain": [
       "True"
      ]
     },
     "execution_count": 5,
     "metadata": {},
     "output_type": "execute_result"
    }
   ],
   "source": [
    "4!=9"
   ]
  },
  {
   "cell_type": "code",
   "execution_count": 7,
   "id": "156302b3-c54f-4776-a594-f72ffa159e29",
   "metadata": {},
   "outputs": [
    {
     "data": {
      "text/plain": [
       "False"
      ]
     },
     "execution_count": 7,
     "metadata": {},
     "output_type": "execute_result"
    }
   ],
   "source": [
    "#Logical Operators\n",
    "45>54 and 56>43"
   ]
  },
  {
   "cell_type": "code",
   "execution_count": 8,
   "id": "39f99286-f6cd-4d60-9434-d04894664015",
   "metadata": {},
   "outputs": [
    {
     "data": {
      "text/plain": [
       "True"
      ]
     },
     "execution_count": 8,
     "metadata": {},
     "output_type": "execute_result"
    }
   ],
   "source": [
    "45>54 or 56>43"
   ]
  },
  {
   "cell_type": "code",
   "execution_count": null,
   "id": "8fcc28a7-ac82-4441-9bbb-c27cb2613450",
   "metadata": {},
   "outputs": [],
   "source": []
  },
  {
   "cell_type": "code",
   "execution_count": null,
   "id": "8bd3d972-d15d-4e69-8c90-5ce0339371bb",
   "metadata": {},
   "outputs": [],
   "source": []
  }
 ],
 "metadata": {
  "kernelspec": {
   "display_name": "Python 3",
   "language": "python",
   "name": "python3"
  },
  "language_info": {
   "codemirror_mode": {
    "name": "ipython",
    "version": 3
   },
   "file_extension": ".py",
   "mimetype": "text/x-python",
   "name": "python",
   "nbconvert_exporter": "python",
   "pygments_lexer": "ipython3",
   "version": "3.8.8"
  }
 },
 "nbformat": 4,
 "nbformat_minor": 5
}
