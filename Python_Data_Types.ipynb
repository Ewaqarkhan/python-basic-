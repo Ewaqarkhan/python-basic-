{
 "cells": [
  {
   "cell_type": "markdown",
   "id": "440f49e3-d7c9-4e03-b21d-df92b2878ac3",
   "metadata": {},
   "source": [
    "Python Data Types\n",
    "#string in python"
   ]
  },
  {
   "cell_type": "code",
   "execution_count": 1,
   "id": "9b1f0329-136a-4da8-8f0e-2c7743d6b482",
   "metadata": {},
   "outputs": [
    {
     "name": "stdout",
     "output_type": "stream",
     "text": [
      "this is a string\n",
      "enter the a string\n"
     ]
    }
   ],
   "source": [
    "x=\"this is a string\"\n",
    "y=\"enter the a string\"\n",
    "print(x)\n",
    "print(y)"
   ]
  },
  {
   "cell_type": "markdown",
   "id": "b22b6677-9bd6-4d8b-b2f9-fc806d140484",
   "metadata": {},
   "source": [
    "input function is use to take input from user"
   ]
  },
  {
   "cell_type": "code",
   "execution_count": 2,
   "id": "4c3f1e83-0969-4c7b-a4a0-ddeec8f3c7e1",
   "metadata": {},
   "outputs": [
    {
     "name": "stdin",
     "output_type": "stream",
     "text": [
      "enter the string hi how are you\n"
     ]
    },
    {
     "name": "stdout",
     "output_type": "stream",
     "text": [
      "hi how are you\n"
     ]
    }
   ],
   "source": [
    "x=str(input(\"enter the string\"))\n",
    "print(x)"
   ]
  },
  {
   "cell_type": "code",
   "execution_count": 3,
   "id": "8b5716a4-b406-42a1-aa9e-c415d1b00d5a",
   "metadata": {},
   "outputs": [
    {
     "data": {
      "text/plain": [
       "'hi how are you'"
      ]
     },
     "execution_count": 3,
     "metadata": {},
     "output_type": "execute_result"
    }
   ],
   "source": [
    "x[:]"
   ]
  },
  {
   "cell_type": "code",
   "execution_count": 4,
   "id": "8edf705d-d12b-4404-8dc6-40ae2e5f9931",
   "metadata": {},
   "outputs": [
    {
     "data": {
      "text/plain": [
       "'hi how'"
      ]
     },
     "execution_count": 4,
     "metadata": {},
     "output_type": "execute_result"
    }
   ],
   "source": [
    "x[0:6]"
   ]
  },
  {
   "cell_type": "code",
   "execution_count": 5,
   "id": "af14d863-f5fa-4f08-97c6-550594981b70",
   "metadata": {},
   "outputs": [
    {
     "data": {
      "text/plain": [
       "'h o'"
      ]
     },
     "execution_count": 5,
     "metadata": {},
     "output_type": "execute_result"
    }
   ],
   "source": [
    "x[0:6:2]"
   ]
  },
  {
   "cell_type": "code",
   "execution_count": 6,
   "id": "11a76e26-1b0c-4b51-9615-bb2c255d9231",
   "metadata": {},
   "outputs": [
    {
     "data": {
      "text/plain": [
       "'u'"
      ]
     },
     "execution_count": 6,
     "metadata": {},
     "output_type": "execute_result"
    }
   ],
   "source": [
    "x[-1]"
   ]
  },
  {
   "cell_type": "code",
   "execution_count": 7,
   "id": "5d0a50ce-e2e4-4238-aa8d-139307181868",
   "metadata": {},
   "outputs": [
    {
     "data": {
      "text/plain": [
       "''"
      ]
     },
     "execution_count": 7,
     "metadata": {},
     "output_type": "execute_result"
    }
   ],
   "source": [
    "x[-1:3]"
   ]
  },
  {
   "cell_type": "markdown",
   "id": "260b1cde-d0e1-4af7-ad27-f3ade1cd8e6a",
   "metadata": {},
   "source": [
    "Numeric Type  int, float, complex\n"
   ]
  },
  {
   "cell_type": "code",
   "execution_count": 27,
   "id": "438f3736-bf46-47e4-bcba-42bece75437c",
   "metadata": {},
   "outputs": [
    {
     "name": "stdin",
     "output_type": "stream",
     "text": [
      "enter the value of x 4\n"
     ]
    },
    {
     "name": "stdout",
     "output_type": "stream",
     "text": [
      "4\n"
     ]
    }
   ],
   "source": [
    "x=int(input(\"enter the value of x\"))\n",
    "print(x)"
   ]
  },
  {
   "cell_type": "code",
   "execution_count": 35,
   "id": "3243ec42-f4c1-4446-b407-5f5d90501f99",
   "metadata": {},
   "outputs": [
    {
     "name": "stdin",
     "output_type": "stream",
     "text": [
      "enter the value of x 67\n"
     ]
    },
    {
     "name": "stdout",
     "output_type": "stream",
     "text": [
      "67.0\n"
     ]
    },
    {
     "data": {
      "text/plain": [
       "float"
      ]
     },
     "execution_count": 35,
     "metadata": {},
     "output_type": "execute_result"
    }
   ],
   "source": [
    "x=float(input(\"enter the value of x\"))\n",
    "print(x)\n",
    "type(x)"
   ]
  },
  {
   "cell_type": "code",
   "execution_count": 30,
   "id": "0e202bb8-0216-4409-9a86-7ee3f314a0f5",
   "metadata": {},
   "outputs": [
    {
     "name": "stdin",
     "output_type": "stream",
     "text": [
      " 3\n"
     ]
    },
    {
     "name": "stdout",
     "output_type": "stream",
     "text": [
      "(3+0j)\n"
     ]
    }
   ],
   "source": [
    "x=complex(input())\n",
    "print(x)"
   ]
  },
  {
   "cell_type": "markdown",
   "id": "3ad1bd89-48db-4283-9b03-c01bd50b6271",
   "metadata": {},
   "source": [
    "Boolean (bool) in python"
   ]
  },
  {
   "cell_type": "code",
   "execution_count": 9,
   "id": "a4e7d4a3-6655-4216-8cb1-f9d741712680",
   "metadata": {},
   "outputs": [
    {
     "data": {
      "text/plain": [
       "False"
      ]
     },
     "execution_count": 9,
     "metadata": {},
     "output_type": "execute_result"
    }
   ],
   "source": [
    "3>5"
   ]
  },
  {
   "cell_type": "code",
   "execution_count": 10,
   "id": "7571cceb-3ce2-4712-b205-ab7e97f52aab",
   "metadata": {},
   "outputs": [
    {
     "data": {
      "text/plain": [
       "True"
      ]
     },
     "execution_count": 10,
     "metadata": {},
     "output_type": "execute_result"
    }
   ],
   "source": [
    "5>1"
   ]
  },
  {
   "cell_type": "markdown",
   "id": "1a190bb8-0057-41f3-86a6-90ed66be4bb1",
   "metadata": {},
   "source": []
  },
  {
   "cell_type": "code",
   "execution_count": 12,
   "id": "9ae5bf48-8bda-4b2a-a841-b8b78ecf63f8",
   "metadata": {},
   "outputs": [
    {
     "name": "stdout",
     "output_type": "stream",
     "text": [
      "[1, 2, 3, 4, 5]\n"
     ]
    }
   ],
   "source": [
    "list=[1,2,3,4,5]\n",
    "print(list[0:5])\n"
   ]
  },
  {
   "cell_type": "code",
   "execution_count": 16,
   "id": "679fe696-f74a-4894-ada4-c2119d39dc49",
   "metadata": {},
   "outputs": [],
   "source": [
    "t=(1,3,4,5)"
   ]
  },
  {
   "cell_type": "code",
   "execution_count": 17,
   "id": "b732a215-6761-490c-8d97-4b4ed0a068d9",
   "metadata": {},
   "outputs": [
    {
     "data": {
      "text/plain": [
       "(1, 3, 4, 5)"
      ]
     },
     "execution_count": 17,
     "metadata": {},
     "output_type": "execute_result"
    }
   ],
   "source": [
    "t"
   ]
  },
  {
   "cell_type": "code",
   "execution_count": 18,
   "id": "d1d46ce7-08bf-4afc-a540-a3e40741b69c",
   "metadata": {},
   "outputs": [
    {
     "data": {
      "text/plain": [
       "tuple"
      ]
     },
     "execution_count": 18,
     "metadata": {},
     "output_type": "execute_result"
    }
   ],
   "source": [
    "type(t)"
   ]
  },
  {
   "cell_type": "code",
   "execution_count": null,
   "id": "ddd946ac-4d88-42a9-bfda-1b6c48a1fef2",
   "metadata": {},
   "outputs": [],
   "source": []
  }
 ],
 "metadata": {
  "kernelspec": {
   "display_name": "Python 3",
   "language": "python",
   "name": "python3"
  },
  "language_info": {
   "codemirror_mode": {
    "name": "ipython",
    "version": 3
   },
   "file_extension": ".py",
   "mimetype": "text/x-python",
   "name": "python",
   "nbconvert_exporter": "python",
   "pygments_lexer": "ipython3",
   "version": "3.8.8"
  }
 },
 "nbformat": 4,
 "nbformat_minor": 5
}
