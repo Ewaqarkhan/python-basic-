{
 "cells": [
  {
   "cell_type": "markdown",
   "id": "3e4208b8-e878-4631-bdfc-620ddc4050a4",
   "metadata": {},
   "source": [
    "Essential basic functionality"
   ]
  },
  {
   "cell_type": "markdown",
   "id": "ac85f6c4-506b-4971-810c-b3ac98faca20",
   "metadata": {},
   "source": [
    "read first or last row  of dataframe or Series"
   ]
  },
  {
   "cell_type": "code",
   "execution_count": 1,
   "id": "e6a52da7-113e-406c-92d3-43c5b7701a08",
   "metadata": {},
   "outputs": [],
   "source": [
    "import pandas as pd\n",
    "import numpy as np"
   ]
  },
  {
   "cell_type": "code",
   "execution_count": 2,
   "id": "57eb89cb-3c8a-42ec-9010-1c80113033da",
   "metadata": {},
   "outputs": [],
   "source": [
    "#using dict of series to create a dataframe\n",
    "S1=pd.Series(np.random.rand(4),index=['a','b','c','d'])\n",
    "S2=pd.Series(np.random.rand(4),index=['a','b','c','d'])\n"
   ]
  },
  {
   "cell_type": "code",
   "execution_count": 3,
   "id": "0bbce0fc-a2d8-44fe-a7f3-b22e5ded258a",
   "metadata": {},
   "outputs": [
    {
     "data": {
      "text/html": [
       "<div>\n",
       "<style scoped>\n",
       "    .dataframe tbody tr th:only-of-type {\n",
       "        vertical-align: middle;\n",
       "    }\n",
       "\n",
       "    .dataframe tbody tr th {\n",
       "        vertical-align: top;\n",
       "    }\n",
       "\n",
       "    .dataframe thead th {\n",
       "        text-align: right;\n",
       "    }\n",
       "</style>\n",
       "<table border=\"1\" class=\"dataframe\">\n",
       "  <thead>\n",
       "    <tr style=\"text-align: right;\">\n",
       "      <th></th>\n",
       "      <th>C1</th>\n",
       "      <th>C2</th>\n",
       "    </tr>\n",
       "  </thead>\n",
       "  <tbody>\n",
       "    <tr>\n",
       "      <th>a</th>\n",
       "      <td>0.215432</td>\n",
       "      <td>0.474185</td>\n",
       "    </tr>\n",
       "    <tr>\n",
       "      <th>b</th>\n",
       "      <td>0.071918</td>\n",
       "      <td>0.165420</td>\n",
       "    </tr>\n",
       "    <tr>\n",
       "      <th>c</th>\n",
       "      <td>0.336032</td>\n",
       "      <td>0.838273</td>\n",
       "    </tr>\n",
       "    <tr>\n",
       "      <th>d</th>\n",
       "      <td>0.782996</td>\n",
       "      <td>0.186247</td>\n",
       "    </tr>\n",
       "  </tbody>\n",
       "</table>\n",
       "</div>"
      ],
      "text/plain": [
       "         C1        C2\n",
       "a  0.215432  0.474185\n",
       "b  0.071918  0.165420\n",
       "c  0.336032  0.838273\n",
       "d  0.782996  0.186247"
      ]
     },
     "execution_count": 3,
     "metadata": {},
     "output_type": "execute_result"
    }
   ],
   "source": [
    "data={'C1':S1,'C2':S2}\n",
    "dataframe=pd.DataFrame(data)\n",
    "dataframe"
   ]
  },
  {
   "cell_type": "code",
   "execution_count": 4,
   "id": "20999c89-d30a-4105-9e23-801dc4e342c0",
   "metadata": {},
   "outputs": [
    {
     "data": {
      "text/html": [
       "<div>\n",
       "<style scoped>\n",
       "    .dataframe tbody tr th:only-of-type {\n",
       "        vertical-align: middle;\n",
       "    }\n",
       "\n",
       "    .dataframe tbody tr th {\n",
       "        vertical-align: top;\n",
       "    }\n",
       "\n",
       "    .dataframe thead th {\n",
       "        text-align: right;\n",
       "    }\n",
       "</style>\n",
       "<table border=\"1\" class=\"dataframe\">\n",
       "  <thead>\n",
       "    <tr style=\"text-align: right;\">\n",
       "      <th></th>\n",
       "      <th>C1</th>\n",
       "      <th>C2</th>\n",
       "    </tr>\n",
       "  </thead>\n",
       "  <tbody>\n",
       "    <tr>\n",
       "      <th>a</th>\n",
       "      <td>0.215432</td>\n",
       "      <td>0.474185</td>\n",
       "    </tr>\n",
       "    <tr>\n",
       "      <th>b</th>\n",
       "      <td>0.071918</td>\n",
       "      <td>0.165420</td>\n",
       "    </tr>\n",
       "  </tbody>\n",
       "</table>\n",
       "</div>"
      ],
      "text/plain": [
       "         C1        C2\n",
       "a  0.215432  0.474185\n",
       "b  0.071918  0.165420"
      ]
     },
     "execution_count": 4,
     "metadata": {},
     "output_type": "execute_result"
    }
   ],
   "source": [
    "dataframe.head(2)"
   ]
  },
  {
   "cell_type": "code",
   "execution_count": 5,
   "id": "b06f7b3c-92b2-47ae-a7df-ab259603dc66",
   "metadata": {},
   "outputs": [
    {
     "data": {
      "text/html": [
       "<div>\n",
       "<style scoped>\n",
       "    .dataframe tbody tr th:only-of-type {\n",
       "        vertical-align: middle;\n",
       "    }\n",
       "\n",
       "    .dataframe tbody tr th {\n",
       "        vertical-align: top;\n",
       "    }\n",
       "\n",
       "    .dataframe thead th {\n",
       "        text-align: right;\n",
       "    }\n",
       "</style>\n",
       "<table border=\"1\" class=\"dataframe\">\n",
       "  <thead>\n",
       "    <tr style=\"text-align: right;\">\n",
       "      <th></th>\n",
       "      <th>C1</th>\n",
       "      <th>C2</th>\n",
       "    </tr>\n",
       "  </thead>\n",
       "  <tbody>\n",
       "    <tr>\n",
       "      <th>c</th>\n",
       "      <td>0.336032</td>\n",
       "      <td>0.838273</td>\n",
       "    </tr>\n",
       "    <tr>\n",
       "      <th>d</th>\n",
       "      <td>0.782996</td>\n",
       "      <td>0.186247</td>\n",
       "    </tr>\n",
       "  </tbody>\n",
       "</table>\n",
       "</div>"
      ],
      "text/plain": [
       "         C1        C2\n",
       "c  0.336032  0.838273\n",
       "d  0.782996  0.186247"
      ]
     },
     "execution_count": 5,
     "metadata": {},
     "output_type": "execute_result"
    }
   ],
   "source": [
    "dataframe.tail(2)"
   ]
  },
  {
   "cell_type": "code",
   "execution_count": 6,
   "id": "8ae4d3f5-019b-4f46-915c-0ddc431d3f18",
   "metadata": {},
   "outputs": [
    {
     "data": {
      "text/plain": [
       "a    0.215432\n",
       "b    0.071918\n",
       "c    0.336032\n",
       "d    0.782996\n",
       "dtype: float64"
      ]
     },
     "execution_count": 6,
     "metadata": {},
     "output_type": "execute_result"
    }
   ],
   "source": [
    "S1.head()"
   ]
  },
  {
   "cell_type": "code",
   "execution_count": 7,
   "id": "e1178a39-b94c-4d06-970e-1ad1c8a9394d",
   "metadata": {},
   "outputs": [
    {
     "data": {
      "text/plain": [
       "a    0.215432\n",
       "b    0.071918\n",
       "dtype: float64"
      ]
     },
     "execution_count": 7,
     "metadata": {},
     "output_type": "execute_result"
    }
   ],
   "source": [
    "S1.head(2)"
   ]
  },
  {
   "cell_type": "code",
   "execution_count": 8,
   "id": "d42b643d-21d6-4490-b190-f34f12df0722",
   "metadata": {},
   "outputs": [
    {
     "data": {
      "text/plain": [
       "d    0.186247\n",
       "dtype: float64"
      ]
     },
     "execution_count": 8,
     "metadata": {},
     "output_type": "execute_result"
    }
   ],
   "source": [
    "S2.tail(1)"
   ]
  },
  {
   "cell_type": "code",
   "execution_count": 9,
   "id": "bb28cfe7-c71d-4ce4-a884-c4a180349e84",
   "metadata": {},
   "outputs": [
    {
     "data": {
      "text/plain": [
       "a    0.474185\n",
       "b    0.165420\n",
       "dtype: float64"
      ]
     },
     "execution_count": 9,
     "metadata": {},
     "output_type": "execute_result"
    }
   ],
   "source": [
    "S2[:2]"
   ]
  },
  {
   "cell_type": "code",
   "execution_count": 11,
   "id": "6fb0cee5-2fd2-4047-8475-da4ad68efd05",
   "metadata": {},
   "outputs": [
    {
     "data": {
      "text/plain": [
       "a    0.474185\n",
       "b    0.165420\n",
       "c    0.838273\n",
       "dtype: float64"
      ]
     },
     "execution_count": 11,
     "metadata": {},
     "output_type": "execute_result"
    }
   ],
   "source": [
    "S2[0:3:1]"
   ]
  },
  {
   "cell_type": "code",
   "execution_count": 12,
   "id": "a2f75f68-1902-476b-a8d4-40cfb73abcd5",
   "metadata": {},
   "outputs": [
    {
     "data": {
      "text/plain": [
       "a    0.474185\n",
       "c    0.838273\n",
       "dtype: float64"
      ]
     },
     "execution_count": 12,
     "metadata": {},
     "output_type": "execute_result"
    }
   ],
   "source": [
    "S2[0:3:2]"
   ]
  },
  {
   "cell_type": "code",
   "execution_count": 14,
   "id": "bc9a7668-c0d5-457e-8d5a-83b1b8507bf5",
   "metadata": {},
   "outputs": [
    {
     "data": {
      "text/plain": [
       "a    0.474185\n",
       "b    0.165420\n",
       "c    0.838273\n",
       "d    0.186247\n",
       "dtype: float64"
      ]
     },
     "execution_count": 14,
     "metadata": {},
     "output_type": "execute_result"
    }
   ],
   "source": [
    "S2[0:4]"
   ]
  },
  {
   "cell_type": "code",
   "execution_count": 16,
   "id": "e846c040-f6da-4816-b2b0-5ca9b7c1c8f4",
   "metadata": {},
   "outputs": [
    {
     "data": {
      "text/plain": [
       "array([0.21543228, 0.07191824, 0.33603217, 0.78299615])"
      ]
     },
     "execution_count": 16,
     "metadata": {},
     "output_type": "execute_result"
    }
   ],
   "source": [
    "S1.to_numpy()"
   ]
  },
  {
   "cell_type": "code",
   "execution_count": 18,
   "id": "10630d65-8eca-43f1-bd91-f23b7a8e89d3",
   "metadata": {},
   "outputs": [],
   "source": [
    "df=dataframe.copy()"
   ]
  },
  {
   "cell_type": "code",
   "execution_count": 19,
   "id": "bef3f36c-9cb3-4c0a-89b7-d28c6fc31373",
   "metadata": {},
   "outputs": [
    {
     "data": {
      "text/html": [
       "<div>\n",
       "<style scoped>\n",
       "    .dataframe tbody tr th:only-of-type {\n",
       "        vertical-align: middle;\n",
       "    }\n",
       "\n",
       "    .dataframe tbody tr th {\n",
       "        vertical-align: top;\n",
       "    }\n",
       "\n",
       "    .dataframe thead th {\n",
       "        text-align: right;\n",
       "    }\n",
       "</style>\n",
       "<table border=\"1\" class=\"dataframe\">\n",
       "  <thead>\n",
       "    <tr style=\"text-align: right;\">\n",
       "      <th></th>\n",
       "      <th>C1</th>\n",
       "      <th>C2</th>\n",
       "    </tr>\n",
       "  </thead>\n",
       "  <tbody>\n",
       "    <tr>\n",
       "      <th>a</th>\n",
       "      <td>0.215432</td>\n",
       "      <td>0.474185</td>\n",
       "    </tr>\n",
       "    <tr>\n",
       "      <th>b</th>\n",
       "      <td>0.071918</td>\n",
       "      <td>0.165420</td>\n",
       "    </tr>\n",
       "    <tr>\n",
       "      <th>c</th>\n",
       "      <td>0.336032</td>\n",
       "      <td>0.838273</td>\n",
       "    </tr>\n",
       "    <tr>\n",
       "      <th>d</th>\n",
       "      <td>0.782996</td>\n",
       "      <td>0.186247</td>\n",
       "    </tr>\n",
       "  </tbody>\n",
       "</table>\n",
       "</div>"
      ],
      "text/plain": [
       "         C1        C2\n",
       "a  0.215432  0.474185\n",
       "b  0.071918  0.165420\n",
       "c  0.336032  0.838273\n",
       "d  0.782996  0.186247"
      ]
     },
     "execution_count": 19,
     "metadata": {},
     "output_type": "execute_result"
    }
   ],
   "source": [
    "df"
   ]
  },
  {
   "cell_type": "code",
   "execution_count": 20,
   "id": "9c3b474c-65cc-47b4-849e-1d26b6df3757",
   "metadata": {},
   "outputs": [
    {
     "data": {
      "text/html": [
       "<div>\n",
       "<style scoped>\n",
       "    .dataframe tbody tr th:only-of-type {\n",
       "        vertical-align: middle;\n",
       "    }\n",
       "\n",
       "    .dataframe tbody tr th {\n",
       "        vertical-align: top;\n",
       "    }\n",
       "\n",
       "    .dataframe thead th {\n",
       "        text-align: right;\n",
       "    }\n",
       "</style>\n",
       "<table border=\"1\" class=\"dataframe\">\n",
       "  <thead>\n",
       "    <tr style=\"text-align: right;\">\n",
       "      <th></th>\n",
       "      <th>C1</th>\n",
       "      <th>C2</th>\n",
       "    </tr>\n",
       "  </thead>\n",
       "  <tbody>\n",
       "    <tr>\n",
       "      <th>a</th>\n",
       "      <td>0.215432</td>\n",
       "      <td>0.474185</td>\n",
       "    </tr>\n",
       "    <tr>\n",
       "      <th>b</th>\n",
       "      <td>0.071918</td>\n",
       "      <td>0.165420</td>\n",
       "    </tr>\n",
       "    <tr>\n",
       "      <th>c</th>\n",
       "      <td>0.336032</td>\n",
       "      <td>0.838273</td>\n",
       "    </tr>\n",
       "    <tr>\n",
       "      <th>d</th>\n",
       "      <td>0.782996</td>\n",
       "      <td>0.186247</td>\n",
       "    </tr>\n",
       "  </tbody>\n",
       "</table>\n",
       "</div>"
      ],
      "text/plain": [
       "         C1        C2\n",
       "a  0.215432  0.474185\n",
       "b  0.071918  0.165420\n",
       "c  0.336032  0.838273\n",
       "d  0.782996  0.186247"
      ]
     },
     "execution_count": 20,
     "metadata": {},
     "output_type": "execute_result"
    }
   ],
   "source": [
    "df.combine_first(dataframe)"
   ]
  },
  {
   "cell_type": "code",
   "execution_count": 21,
   "id": "d7274cf6-f6ac-4ddf-a47c-18ebfd5eab42",
   "metadata": {},
   "outputs": [
    {
     "data": {
      "text/plain": [
       "C1    0.351595\n",
       "C2    0.416031\n",
       "dtype: float64"
      ]
     },
     "execution_count": 21,
     "metadata": {},
     "output_type": "execute_result"
    }
   ],
   "source": [
    "df.mean()"
   ]
  },
  {
   "cell_type": "code",
   "execution_count": 32,
   "id": "a121a330-eec9-4708-bcc4-a9703764040a",
   "metadata": {},
   "outputs": [
    {
     "data": {
      "text/plain": [
       "C1    0.782996\n",
       "C2    0.838273\n",
       "dtype: float64"
      ]
     },
     "execution_count": 32,
     "metadata": {},
     "output_type": "execute_result"
    }
   ],
   "source": [
    "df.max()"
   ]
  },
  {
   "cell_type": "code",
   "execution_count": 31,
   "id": "ef634469-3e12-4562-97c3-9f8eeaaedd04",
   "metadata": {},
   "outputs": [
    {
     "data": {
      "text/plain": [
       "C1    0.071918\n",
       "C2    0.165420\n",
       "dtype: float64"
      ]
     },
     "execution_count": 31,
     "metadata": {},
     "output_type": "execute_result"
    }
   ],
   "source": [
    "df.min()"
   ]
  },
  {
   "cell_type": "code",
   "execution_count": 25,
   "id": "689caef9-3064-40b7-99f2-eac47b0e7a44",
   "metadata": {},
   "outputs": [
    {
     "data": {
      "text/html": [
       "<div>\n",
       "<style scoped>\n",
       "    .dataframe tbody tr th:only-of-type {\n",
       "        vertical-align: middle;\n",
       "    }\n",
       "\n",
       "    .dataframe tbody tr th {\n",
       "        vertical-align: top;\n",
       "    }\n",
       "\n",
       "    .dataframe thead th {\n",
       "        text-align: right;\n",
       "    }\n",
       "</style>\n",
       "<table border=\"1\" class=\"dataframe\">\n",
       "  <thead>\n",
       "    <tr style=\"text-align: right;\">\n",
       "      <th></th>\n",
       "      <th>C1</th>\n",
       "      <th>C2</th>\n",
       "    </tr>\n",
       "  </thead>\n",
       "  <tbody>\n",
       "    <tr>\n",
       "      <th>count</th>\n",
       "      <td>4.000000</td>\n",
       "      <td>4.000000</td>\n",
       "    </tr>\n",
       "    <tr>\n",
       "      <th>mean</th>\n",
       "      <td>0.351595</td>\n",
       "      <td>0.416031</td>\n",
       "    </tr>\n",
       "    <tr>\n",
       "      <th>std</th>\n",
       "      <td>0.307196</td>\n",
       "      <td>0.314789</td>\n",
       "    </tr>\n",
       "    <tr>\n",
       "      <th>min</th>\n",
       "      <td>0.071918</td>\n",
       "      <td>0.165420</td>\n",
       "    </tr>\n",
       "    <tr>\n",
       "      <th>25%</th>\n",
       "      <td>0.179554</td>\n",
       "      <td>0.181040</td>\n",
       "    </tr>\n",
       "    <tr>\n",
       "      <th>50%</th>\n",
       "      <td>0.275732</td>\n",
       "      <td>0.330216</td>\n",
       "    </tr>\n",
       "    <tr>\n",
       "      <th>75%</th>\n",
       "      <td>0.447773</td>\n",
       "      <td>0.565207</td>\n",
       "    </tr>\n",
       "    <tr>\n",
       "      <th>max</th>\n",
       "      <td>0.782996</td>\n",
       "      <td>0.838273</td>\n",
       "    </tr>\n",
       "  </tbody>\n",
       "</table>\n",
       "</div>"
      ],
      "text/plain": [
       "             C1        C2\n",
       "count  4.000000  4.000000\n",
       "mean   0.351595  0.416031\n",
       "std    0.307196  0.314789\n",
       "min    0.071918  0.165420\n",
       "25%    0.179554  0.181040\n",
       "50%    0.275732  0.330216\n",
       "75%    0.447773  0.565207\n",
       "max    0.782996  0.838273"
      ]
     },
     "execution_count": 25,
     "metadata": {},
     "output_type": "execute_result"
    }
   ],
   "source": [
    "df.describe()"
   ]
  },
  {
   "cell_type": "code",
   "execution_count": 30,
   "id": "63360dd5-6cca-4ad4-b4c6-b0d8a9a512a3",
   "metadata": {},
   "outputs": [
    {
     "data": {
      "text/plain": [
       "count    4.000000\n",
       "mean     0.351595\n",
       "std      0.307196\n",
       "min      0.071918\n",
       "25%      0.179554\n",
       "50%      0.275732\n",
       "75%      0.447773\n",
       "max      0.782996\n",
       "dtype: float64"
      ]
     },
     "execution_count": 30,
     "metadata": {},
     "output_type": "execute_result"
    }
   ],
   "source": [
    "S1.describe()"
   ]
  },
  {
   "cell_type": "code",
   "execution_count": 33,
   "id": "80e292a6-0a4f-4415-8d07-2614d1cb247c",
   "metadata": {},
   "outputs": [
    {
     "data": {
      "text/plain": [
       "0.782996    1\n",
       "0.215432    1\n",
       "0.071918    1\n",
       "0.336032    1\n",
       "dtype: int64"
      ]
     },
     "execution_count": 33,
     "metadata": {},
     "output_type": "execute_result"
    }
   ],
   "source": [
    "S1.value_counts()"
   ]
  },
  {
   "cell_type": "markdown",
   "id": "977c9eff-523e-4932-b0a0-3dbc00c3346e",
   "metadata": {},
   "source": [
    "Aligning objects with each other with align"
   ]
  },
  {
   "cell_type": "code",
   "execution_count": 34,
   "id": "b83bab4f-f092-4328-ae58-ea3521302de7",
   "metadata": {},
   "outputs": [
    {
     "data": {
      "text/plain": [
       "(a    0.215432\n",
       " b    0.071918\n",
       " c    0.336032\n",
       " d    0.782996\n",
       " dtype: float64,\n",
       " a    0.474185\n",
       " b    0.165420\n",
       " c    0.838273\n",
       " d    0.186247\n",
       " dtype: float64)"
      ]
     },
     "execution_count": 34,
     "metadata": {},
     "output_type": "execute_result"
    }
   ],
   "source": [
    "S1.align(S2)"
   ]
  },
  {
   "cell_type": "code",
   "execution_count": 35,
   "id": "11d7f17e-1d73-44ae-bc49-d68e33b60bd3",
   "metadata": {},
   "outputs": [
    {
     "data": {
      "text/plain": [
       "(a    0.215432\n",
       " b    0.071918\n",
       " c    0.336032\n",
       " d    0.782996\n",
       " dtype: float64,\n",
       " a    0.474185\n",
       " b    0.165420\n",
       " c    0.838273\n",
       " d    0.186247\n",
       " dtype: float64)"
      ]
     },
     "execution_count": 35,
     "metadata": {},
     "output_type": "execute_result"
    }
   ],
   "source": [
    "S1.align(S2,join='inner')"
   ]
  },
  {
   "cell_type": "code",
   "execution_count": 36,
   "id": "82000c31-9b0d-4a99-a467-0402fbcd7bf7",
   "metadata": {},
   "outputs": [
    {
     "data": {
      "text/plain": [
       "(a    0.215432\n",
       " b    0.071918\n",
       " c    0.336032\n",
       " d    0.782996\n",
       " dtype: float64,\n",
       " a    0.474185\n",
       " b    0.165420\n",
       " c    0.838273\n",
       " d    0.186247\n",
       " dtype: float64)"
      ]
     },
     "execution_count": 36,
     "metadata": {},
     "output_type": "execute_result"
    }
   ],
   "source": [
    "S1.align(S2,join='right')"
   ]
  },
  {
   "cell_type": "code",
   "execution_count": 37,
   "id": "3ab2e66c-c28e-4e14-8733-e1ea19ad0e8c",
   "metadata": {},
   "outputs": [
    {
     "data": {
      "text/plain": [
       "(a    0.215432\n",
       " b    0.071918\n",
       " c    0.336032\n",
       " d    0.782996\n",
       " dtype: float64,\n",
       " a    0.474185\n",
       " b    0.165420\n",
       " c    0.838273\n",
       " d    0.186247\n",
       " dtype: float64)"
      ]
     },
     "execution_count": 37,
     "metadata": {},
     "output_type": "execute_result"
    }
   ],
   "source": [
    "S1.align(S2,join='left')"
   ]
  },
  {
   "cell_type": "code",
   "execution_count": 38,
   "id": "4086c923-a637-47b2-8dc6-c5038f4b0558",
   "metadata": {},
   "outputs": [
    {
     "data": {
      "text/plain": [
       "(a    0.215432\n",
       " b    0.071918\n",
       " c    0.336032\n",
       " d    0.782996\n",
       " dtype: float64,\n",
       " a    0.474185\n",
       " b    0.165420\n",
       " c    0.838273\n",
       " d    0.186247\n",
       " dtype: float64)"
      ]
     },
     "execution_count": 38,
     "metadata": {},
     "output_type": "execute_result"
    }
   ],
   "source": [
    "S1.align(S2,join='outer')"
   ]
  },
  {
   "cell_type": "code",
   "execution_count": 39,
   "id": "c4722cd9-3469-4401-9755-c642b3cb5e98",
   "metadata": {},
   "outputs": [
    {
     "name": "stdout",
     "output_type": "stream",
     "text": [
      "C1\n",
      "C2\n"
     ]
    }
   ],
   "source": [
    "for C in dataframe:\n",
    "    print(C)"
   ]
  },
  {
   "cell_type": "code",
   "execution_count": null,
   "id": "861a5397-097f-45e9-b992-1924bcedb9a7",
   "metadata": {},
   "outputs": [],
   "source": []
  }
 ],
 "metadata": {
  "kernelspec": {
   "display_name": "Python 3",
   "language": "python",
   "name": "python3"
  },
  "language_info": {
   "codemirror_mode": {
    "name": "ipython",
    "version": 3
   },
   "file_extension": ".py",
   "mimetype": "text/x-python",
   "name": "python",
   "nbconvert_exporter": "python",
   "pygments_lexer": "ipython3",
   "version": "3.8.8"
  }
 },
 "nbformat": 4,
 "nbformat_minor": 5
}
