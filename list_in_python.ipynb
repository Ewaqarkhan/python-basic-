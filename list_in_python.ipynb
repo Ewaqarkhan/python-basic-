{
 "cells": [
  {
   "cell_type": "code",
   "execution_count": 24,
   "id": "a6f43216-cdf0-4037-8d32-8b3a373eeb2a",
   "metadata": {},
   "outputs": [
    {
     "name": "stdout",
     "output_type": "stream",
     "text": [
      "1\n",
      "2\n",
      "3\n",
      "4\n",
      "5\n",
      "6\n",
      "7\n",
      "8\n",
      "9\n"
     ]
    }
   ],
   "source": [
    "x=[1,2,3,4,5,6,7,8,9]   #list\n",
    "for i in x:\n",
    "    print(i)"
   ]
  },
  {
   "cell_type": "code",
   "execution_count": 25,
   "id": "c46c442c-0fe2-4b28-9067-29ec49bac51f",
   "metadata": {},
   "outputs": [
    {
     "name": "stdout",
     "output_type": "stream",
     "text": [
      "[1, 2, 3, 4, 5, 6, 7, 8, 9]\n"
     ]
    }
   ],
   "source": [
    "print(x)"
   ]
  },
  {
   "cell_type": "code",
   "execution_count": 26,
   "id": "7e4d4bf0-d495-4b04-8ad6-d06a7a3fbbe7",
   "metadata": {},
   "outputs": [
    {
     "data": {
      "text/plain": [
       "list"
      ]
     },
     "execution_count": 26,
     "metadata": {},
     "output_type": "execute_result"
    }
   ],
   "source": [
    "#type of list\n",
    "type(x)"
   ]
  },
  {
   "cell_type": "code",
   "execution_count": 27,
   "id": "8928196c-bf4e-4800-a6bd-5fdb844816ac",
   "metadata": {},
   "outputs": [
    {
     "name": "stdout",
     "output_type": "stream",
     "text": [
      "9\n"
     ]
    }
   ],
   "source": [
    "#print length of the list\n",
    "print(len(x))"
   ]
  },
  {
   "cell_type": "code",
   "execution_count": 34,
   "id": "6312b2eb-b05a-4527-b0ef-3caad8a4b9a5",
   "metadata": {},
   "outputs": [
    {
     "data": {
      "text/plain": [
       "[2, 54, 67, 34, 76, 23]"
      ]
     },
     "execution_count": 34,
     "metadata": {},
     "output_type": "execute_result"
    }
   ],
   "source": [
    "s=[2,54,67,34,76,23]\n",
    "s"
   ]
  },
  {
   "cell_type": "code",
   "execution_count": 35,
   "id": "a214bf2a-61e8-4c89-90f0-321b118c371b",
   "metadata": {},
   "outputs": [
    {
     "name": "stdout",
     "output_type": "stream",
     "text": [
      "[2, 54, 67, 34, 76, 23, 1, 2, 3, 4, 5, 6, 7, 8, 9]\n"
     ]
    }
   ],
   "source": [
    "print(s+x)"
   ]
  },
  {
   "cell_type": "code",
   "execution_count": 36,
   "id": "ad4053e1-0ab7-440e-a9d7-cb8d64130772",
   "metadata": {},
   "outputs": [
    {
     "data": {
      "text/plain": [
       "[2, 23, 34, 54, 67, 76]"
      ]
     },
     "execution_count": 36,
     "metadata": {},
     "output_type": "execute_result"
    }
   ],
   "source": [
    "s.sort()\n",
    "s"
   ]
  },
  {
   "cell_type": "code",
   "execution_count": 37,
   "id": "8833af7b-9f02-44ce-8b22-f15aed29db18",
   "metadata": {},
   "outputs": [],
   "source": [
    "s.append(34)"
   ]
  },
  {
   "cell_type": "code",
   "execution_count": 38,
   "id": "5a87431e-425b-4d76-a03f-cf0eff27049c",
   "metadata": {},
   "outputs": [
    {
     "data": {
      "text/plain": [
       "[2, 23, 34, 54, 67, 76, 34]"
      ]
     },
     "execution_count": 38,
     "metadata": {},
     "output_type": "execute_result"
    }
   ],
   "source": [
    "s"
   ]
  },
  {
   "cell_type": "code",
   "execution_count": 40,
   "id": "e5ac5252-2b27-4aea-bf86-59f5f10355fc",
   "metadata": {},
   "outputs": [
    {
     "data": {
      "text/plain": [
       "2"
      ]
     },
     "execution_count": 40,
     "metadata": {},
     "output_type": "execute_result"
    }
   ],
   "source": [
    "counts=s.count(34)\n",
    "counts"
   ]
  },
  {
   "cell_type": "code",
   "execution_count": 43,
   "id": "7a921039-2e8d-4f22-81f8-b3e532c46a02",
   "metadata": {},
   "outputs": [],
   "source": [
    "s1=s.copy()"
   ]
  },
  {
   "cell_type": "code",
   "execution_count": 44,
   "id": "243fdc72-5122-4391-99de-3626ecb3f990",
   "metadata": {},
   "outputs": [
    {
     "data": {
      "text/plain": [
       "[2, 23, 34, 54, 67, 76, 34]"
      ]
     },
     "execution_count": 44,
     "metadata": {},
     "output_type": "execute_result"
    }
   ],
   "source": [
    "s1"
   ]
  },
  {
   "cell_type": "code",
   "execution_count": 50,
   "id": "df9de207-75cd-4ea1-b740-44425c4c0300",
   "metadata": {},
   "outputs": [],
   "source": [
    "x.reverse()"
   ]
  },
  {
   "cell_type": "code",
   "execution_count": 51,
   "id": "1a4ad2ae-a833-450b-820b-b3229ea41760",
   "metadata": {},
   "outputs": [
    {
     "data": {
      "text/plain": [
       "[9, 8, 7, 6, 5, 4, 3, 2, 1]"
      ]
     },
     "execution_count": 51,
     "metadata": {},
     "output_type": "execute_result"
    }
   ],
   "source": [
    "x"
   ]
  },
  {
   "cell_type": "code",
   "execution_count": 52,
   "id": "a512ba9a-d0f4-4d87-9c49-bcffa11f77dd",
   "metadata": {},
   "outputs": [
    {
     "data": {
      "text/plain": [
       "9"
      ]
     },
     "execution_count": 52,
     "metadata": {},
     "output_type": "execute_result"
    }
   ],
   "source": [
    "x.pop(0)"
   ]
  },
  {
   "cell_type": "code",
   "execution_count": 53,
   "id": "6593279e-f053-481c-9123-133bfef5910b",
   "metadata": {},
   "outputs": [
    {
     "data": {
      "text/plain": [
       "[8, 7, 6, 5, 4, 3, 2, 1]"
      ]
     },
     "execution_count": 53,
     "metadata": {},
     "output_type": "execute_result"
    }
   ],
   "source": [
    "x"
   ]
  },
  {
   "cell_type": "code",
   "execution_count": 54,
   "id": "9e8edbcf-ff49-4d22-81ba-eb1535a97db3",
   "metadata": {},
   "outputs": [],
   "source": [
    "x.remove(8)"
   ]
  },
  {
   "cell_type": "code",
   "execution_count": 55,
   "id": "42d06182-e07e-46b3-ba23-4759ba2b6587",
   "metadata": {},
   "outputs": [
    {
     "data": {
      "text/plain": [
       "[7, 6, 5, 4, 3, 2, 1]"
      ]
     },
     "execution_count": 55,
     "metadata": {},
     "output_type": "execute_result"
    }
   ],
   "source": [
    "x"
   ]
  },
  {
   "cell_type": "code",
   "execution_count": 56,
   "id": "b2bba8c3-f3ad-4d73-b2a4-ede145494526",
   "metadata": {},
   "outputs": [],
   "source": [
    "x.insert(2,5)"
   ]
  },
  {
   "cell_type": "code",
   "execution_count": 60,
   "id": "22b47439-d93f-49c9-b11f-c7bddbb8ad49",
   "metadata": {},
   "outputs": [
    {
     "data": {
      "text/plain": [
       "[7, 6, 5, 5, 4, 3, 2, 1]"
      ]
     },
     "execution_count": 60,
     "metadata": {},
     "output_type": "execute_result"
    }
   ],
   "source": [
    "x"
   ]
  },
  {
   "cell_type": "code",
   "execution_count": 69,
   "id": "d117ca91-a954-41db-b70f-1f82c73c18ba",
   "metadata": {},
   "outputs": [],
   "source": [
    "x.clear()"
   ]
  },
  {
   "cell_type": "code",
   "execution_count": 70,
   "id": "6b9d0d22-acd7-44ae-9962-6c31104d41d4",
   "metadata": {},
   "outputs": [
    {
     "data": {
      "text/plain": [
       "[]"
      ]
     },
     "execution_count": 70,
     "metadata": {},
     "output_type": "execute_result"
    }
   ],
   "source": [
    "x"
   ]
  },
  {
   "cell_type": "code",
   "execution_count": 75,
   "id": "1327e5cc-ce03-4253-a32d-8dcb19e27aa8",
   "metadata": {},
   "outputs": [
    {
     "data": {
      "text/plain": [
       "76"
      ]
     },
     "execution_count": 75,
     "metadata": {},
     "output_type": "execute_result"
    }
   ],
   "source": [
    "maxi=max(s)\n",
    "maxi"
   ]
  },
  {
   "cell_type": "code",
   "execution_count": 76,
   "id": "9db3d9e3-a976-4ede-889d-36cd355a3bb2",
   "metadata": {},
   "outputs": [],
   "source": [
    "mani=min(s)"
   ]
  },
  {
   "cell_type": "code",
   "execution_count": 77,
   "id": "3aa855f4-7ddb-45f5-977e-7e39f7c7e4fa",
   "metadata": {},
   "outputs": [
    {
     "data": {
      "text/plain": [
       "2"
      ]
     },
     "execution_count": 77,
     "metadata": {},
     "output_type": "execute_result"
    }
   ],
   "source": [
    "mani"
   ]
  },
  {
   "cell_type": "code",
   "execution_count": 78,
   "id": "d9476d77-3073-4b04-9aca-6d7301195aae",
   "metadata": {},
   "outputs": [],
   "source": [
    "matrix=[[1,2,3],[3,4,5],[4,5,6]]"
   ]
  },
  {
   "cell_type": "code",
   "execution_count": 79,
   "id": "1ba9c669-a1ec-4048-9755-4c7c34840579",
   "metadata": {},
   "outputs": [
    {
     "data": {
      "text/plain": [
       "[[1, 2, 3], [3, 4, 5], [4, 5, 6]]"
      ]
     },
     "execution_count": 79,
     "metadata": {},
     "output_type": "execute_result"
    }
   ],
   "source": [
    "matrix"
   ]
  },
  {
   "cell_type": "code",
   "execution_count": 80,
   "id": "6e39b07d-0702-477c-a2c1-009e4b4baf86",
   "metadata": {},
   "outputs": [
    {
     "data": {
      "text/plain": [
       "list"
      ]
     },
     "execution_count": 80,
     "metadata": {},
     "output_type": "execute_result"
    }
   ],
   "source": [
    "type(matrix)"
   ]
  },
  {
   "cell_type": "code",
   "execution_count": null,
   "id": "8b56fa7a-79c4-44c2-aa7a-4186cfb53361",
   "metadata": {},
   "outputs": [],
   "source": []
  },
  {
   "cell_type": "code",
   "execution_count": null,
   "id": "8b312858-94a6-4b2d-872a-c83748acffe3",
   "metadata": {},
   "outputs": [],
   "source": []
  }
 ],
 "metadata": {
  "kernelspec": {
   "display_name": "Python 3",
   "language": "python",
   "name": "python3"
  },
  "language_info": {
   "codemirror_mode": {
    "name": "ipython",
    "version": 3
   },
   "file_extension": ".py",
   "mimetype": "text/x-python",
   "name": "python",
   "nbconvert_exporter": "python",
   "pygments_lexer": "ipython3",
   "version": "3.8.8"
  }
 },
 "nbformat": 4,
 "nbformat_minor": 5
}
